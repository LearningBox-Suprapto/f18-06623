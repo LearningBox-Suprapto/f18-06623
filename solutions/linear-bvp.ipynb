{
 "cells": [
  {
   "cell_type": "markdown",
   "metadata": {},
   "source": [
    "\n",
    "# ASSIGNED Linear BVP\n",
    "\n"
   ]
  },
  {
   "cell_type": "markdown",
   "metadata": {},
   "source": [
    "This boundary value problem is linear.\n",
    "\n",
    "$y'' + y = 0$\n",
    "\n",
    "With boundary conditions $y(0) = 0$ and $y(\\pi/2) = 2$\n",
    "\n",
    "First, derive the equations that approximate this equation using finite differences. You should write out the equations in a form that allow you to construct a set of linear equations, e.g. $\\mathbf{A} \\mathbf{y} = \\mathbf{b}$.\n",
    "\n"
   ]
  },
  {
   "cell_type": "code",
   "execution_count": 1,
   "metadata": {
    "collapsed": true
   },
   "outputs": [],
   "source": []
  },
  {
   "cell_type": "markdown",
   "metadata": {},
   "source": [
    "Next, write code to construct $\\mathbf{A}$ and $\\mathbf{b}$, and solve for $\\mathbf{y}$.\n",
    "\n"
   ]
  },
  {
   "cell_type": "code",
   "execution_count": 1,
   "metadata": {
    "collapsed": true
   },
   "outputs": [],
   "source": []
  },
  {
   "cell_type": "markdown",
   "metadata": {},
   "source": [
    "Show some evidence that your solution is reasonable.\n",
    "\n"
   ]
  },
  {
   "cell_type": "code",
   "execution_count": 1,
   "metadata": {
    "collapsed": true
   },
   "outputs": [],
   "source": []
  },
  {
   "cell_type": "markdown",
   "metadata": {},
   "source": [
    "Finally, there is a known analytical solution to this equation: $y = 2 \\sin x$. Compare your answer to the known solution.\n",
    "\n"
   ]
  },
  {
   "cell_type": "code",
   "execution_count": 1,
   "metadata": {
    "collapsed": true
   },
   "outputs": [],
   "source": []
  },
  {
   "cell_type": "markdown",
   "metadata": {},
   "source": [
    "\n",
    "## solution\n",
    "\n"
   ]
  },
  {
   "cell_type": "markdown",
   "metadata": {},
   "source": [
    "The key to this problem is to derive the finite difference formulas:\n",
    "\n",
    "$y_{j+1} - 2 y_j + y_{j-1} + h^2 y_j= 0$\n",
    "\n",
    "$y_{j-1} + (h^2 - 2) y_j + y_{j+1} = 0$\n",
    "\n",
    "and then to construct the matrix. These matrices are called Toeplitz matrices, and there is an easy way to construct them in numpy.\n",
    "\n"
   ]
  },
  {
   "cell_type": "code",
   "execution_count": 1,
   "metadata": {
    "collapsed": true
   },
   "outputs": [],
   "source": [
    "import numpy as np\n",
    "N = 50\n",
    "x, h = np.linspace(0, np.pi/2, N, retstep=True)\n",
    "\n",
    "from scipy.linalg import toeplitz\n",
    "r = np.zeros(N - 2)\n",
    "r[0] = h**2  - 2\n",
    "r[1] = 1\n",
    "\n",
    "c = np.zeros(N - 2)\n",
    "c[0] = h**2 - 2\n",
    "c[1] = 1\n",
    "A = toeplitz(c, r)\n",
    "\n",
    "# Here is an alternative approach.\n",
    "# A = np.eye(N - 2) * (h**2 * _lambda - 2)\n",
    "# U = np.diag(np.ones(N - 3), 1)\n",
    "# L = np.diag(np.ones(N - 3), -1)\n",
    "\n",
    "# A = A + U + L"
   ]
  },
  {
   "cell_type": "markdown",
   "metadata": {},
   "source": [
    "Then you just build up the right hand side of the equation to finally yield:\n",
    "\n",
    "$\\mathbf{A} \\mathbf{y} = \\mathbf{b}$\n",
    "\n",
    "and solve for $\\mathbf{y}$ with `np.linalg.solve`. Don't forget to add the boundary conditions back on to the solution. We know the analytical solution to this BVP, it is $y(x) = 2 \\sin(x)$, so we plot it for comparison.\n",
    "\n"
   ]
  },
  {
   "cell_type": "code",
   "execution_count": 1,
   "metadata": {},
   "outputs": [
    {
     "data": {
      "image/png": "[encoded data removed]",
      "text/plain": [
       "<matplotlib.figure.Figure>"
      ]
     },
     "metadata": {},
     "output_type": "display_data"
    }
   ],
   "source": [
    "b = np.zeros(N - 2)\n",
    "b[-1] = -2\n",
    "y_inner = np.linalg.solve(A, b)\n",
    "\n",
    "# add the boundary values back on.\n",
    "y = np.concatenate([[0], y_inner, [2]])\n",
    "\n",
    "%matplotlib inline\n",
    "import matplotlib.pyplot as plt\n",
    "plt.plot(x, y)\n",
    "plt.plot(x, 2 * np.sin(x), 'r--') # analytical solution\n",
    "plt.xlabel('x')\n",
    "plt.ylabel('y')\n",
    "plt.legend(['numeric solution', 'analytical solution'])"
   ]
  },
  {
   "cell_type": "markdown",
   "metadata": {},
   "source": [
    "These two solutions are visually indistinguishable.\n",
    "\n"
   ]
  }
 ],
 "metadata": {
  "kernelspec": {
   "display_name": "Python 3",
   "language": "python",
   "name": "python3"
  },
  "language_info": {
   "codemirror_mode": {
    "name": "ipython",
    "version": 3
   },
   "file_extension": ".py",
   "mimetype": "text/x-python",
   "name": "python",
   "nbconvert_exporter": "python",
   "pygments_lexer": "ipython3",
   "version": "3.6.3"
  },
  "org": {}
 },
 "nbformat": 4,
 "nbformat_minor": 1
}
