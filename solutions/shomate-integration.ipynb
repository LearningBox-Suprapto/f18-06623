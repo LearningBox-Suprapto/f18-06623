{
 "cells": [
  {
   "cell_type": "markdown",
   "metadata": {},
   "source": [
    "\n",
    "# ASSIGNED Integration of the heat capacity\n",
    "\n"
   ]
  },
  {
   "cell_type": "markdown",
   "metadata": {},
   "source": [
    "From thermodynamics, the heat capacity is defined as $C_p = \\left(\\frac{dH}{dT}\\right)_P$. That means we can calculate the heat required to change the temperature of some material from the following integral:\n",
    "\n",
    "$H_2 - H_1 = Q = \\int_{T_1}^{T_2} C_p(T) dT$\n",
    "\n",
    "In the range of 298-1200K, the heat capacity of CO<sub>2</sub> is given by a [Shomate polynomial](https://webbook.nist.gov/cgi/cbook.cgi?ID=C124389&Units=SI&Mask=1#Thermo-Gas):\n",
    "\n",
    "$C_p(t) = A + B t + C t^2 + D t^3 + E/t^2$ with units of J/mol/K.\n",
    "\n",
    "where $t = T / 1000$, and $T$ is the temperature in K. The constants in the equation are\n",
    "\n",
    "||value|\n",
    "|---\n",
    "|A|24.99735|\n",
    "|B|55.18696|\n",
    "|C|-33.69137|\n",
    "|D|7.948387|\n",
    "|E|-0.136638|\n",
    "|F|-403.6075|\n",
    "|G|228.2431|\n",
    "|H|-393.5224|\n",
    "\n"
   ]
  },
  {
   "cell_type": "markdown",
   "metadata": {},
   "source": [
    "\n",
    "## Integrate the heat capacity\n",
    "\n"
   ]
  },
  {
   "cell_type": "markdown",
   "metadata": {},
   "source": [
    "Use this information to compute the energy (Q in kJ/mol) required to raise the temperature of CO<sub>2</sub> from 300K to 600K. You should use `scipy.integrate.quad` to perform the integration.\n",
    "\n"
   ]
  },
  {
   "cell_type": "code",
   "execution_count": 1,
   "metadata": {
    "collapsed": true
   },
   "outputs": [],
   "source": []
  },
  {
   "cell_type": "markdown",
   "metadata": {},
   "source": [
    "\n",
    "### solution\n",
    "\n"
   ]
  },
  {
   "cell_type": "code",
   "execution_count": 5,
   "metadata": {},
   "outputs": [
    {
     "name": "stdout",
     "output_type": "stream",
     "text": [
      "The change in enthalpy is 12.841 kJ/mol.\n"
     ]
    }
   ],
   "source": [
    "A =  24.99735\n",
    "B =  55.18696\n",
    "C = -33.69137\n",
    "D =  7.948387\n",
    "E = -0.136638\n",
    "F = -403.6075\n",
    "G =  228.2431\n",
    "H = -393.5224\n",
    "\n",
    "def Cp(T):\n",
    "    t = T / 1000\n",
    "    return A + B*t + C*t**2 + D*t**3 + E / t**2\n",
    "\n",
    "from scipy.integrate import quad\n",
    "\n",
    "dH, _ = quad(Cp, 300, 600)  # J / mol\n",
    "print(f'The change in enthalpy is {dH / 1000:1.3f} kJ/mol.')"
   ]
  },
  {
   "cell_type": "markdown",
   "metadata": {},
   "source": [
    "\n",
    "## Verify via &Delta; H\n",
    "\n"
   ]
  },
  {
   "cell_type": "markdown",
   "metadata": {},
   "source": [
    "The change in enthalpy (in kJ / mol) from standard state is\n",
    "\n",
    "$dH − dH_{298.15}= A t + B t^2/2 + C t^3/3 + D t^4/4 − E/t + F − H$\n",
    "\n",
    "again, $t = T / 1000$.\n",
    "\n",
    "Use this equation to compute the change in enthalpy when you increase the temperature from 300 K to 600 K.\n",
    "\n"
   ]
  },
  {
   "cell_type": "code",
   "execution_count": 1,
   "metadata": {
    "collapsed": true
   },
   "outputs": [],
   "source": []
  },
  {
   "cell_type": "markdown",
   "metadata": {},
   "source": [
    "\n",
    "### solution\n",
    "\n"
   ]
  },
  {
   "cell_type": "code",
   "execution_count": 1,
   "metadata": {},
   "outputs": [
    {
     "name": "stdout",
     "output_type": "stream",
     "text": [
      "The change in enthalpy is 12.841 kJ/mol."
     ]
    }
   ],
   "source": [
    "def dH(T):\n",
    "    t = T / 1000\n",
    "    return A * t + B*t**2 / 2 + C * t**3 / 3 + D * t**4 / 4 - E/t + F - H\n",
    "\n",
    "print(f'The change in enthalpy is {dH(600) - dH(300):1.3f} kJ/mol.')"
   ]
  },
  {
   "cell_type": "markdown",
   "metadata": {},
   "source": [
    "This is the same as what we got from integrating the heat capacity. There is a subtle units issue, and that is the units of the heat capacity are J/mol/K, so the integral leads to units of J/mol, whereas the enthalpy equation has units of kJ/mol directly.\n",
    "\n"
   ]
  }
 ],
 "metadata": {
  "grade": {},
  "kernelspec": {
   "display_name": "Python 3",
   "language": "python",
   "name": "python3"
  },
  "language_info": {
   "codemirror_mode": {
    "name": "ipython",
    "version": 3
   },
   "file_extension": ".py",
   "mimetype": "text/x-python",
   "name": "python",
   "nbconvert_exporter": "python",
   "pygments_lexer": "ipython3",
   "version": "3.6.3"
  },
  "org": {}
 },
 "nbformat": 4,
 "nbformat_minor": 1
}
