{
 "cells": [
  {
   "cell_type": "markdown",
   "metadata": {},
   "source": [
    "\n",
    "# ASSIGNED Compressibility factors\n",
    "\n"
   ]
  },
  {
   "cell_type": "markdown",
   "metadata": {},
   "source": [
    "The van der Waals equation of state for a gas is defined by:\n",
    "\n",
    "$\\left(P + \\frac{a}{V^2}\\right)(V - b) = RT$\n",
    "\n",
    "where $a$ and $b$ are defined by:\n",
    "\n",
    "$a = \\frac{27}{64}\\left(\\frac{R^2 T_c^2}{P_c}\\right)$\n",
    "\n",
    "$b = \\frac{R T_c}{8 P_c}$\n",
    "\n",
    "In these equations, $V$ is the molar volume, $P$ is the pressure, and $T$ is the temperature.\n",
    "\n",
    "$R$ is the gas constant, $P_c$ is the critical pressure of\n",
    "the gas, and $T_c$ is the critical temperature.\n",
    "\n",
    "The compressibility factor is defined by $Z = \\frac{P V}{R T}$. You can think of this as a measure how ideal the gas is; if $Z=1$ then it appears to be ideal.\n",
    "\n",
    "For ammonia, $P_c = 111.3$ atm, $T_c = 405.5$ K, and in these units, $R = 0.08206$ (atm L)/(mol K).\n",
    "\n",
    "Use the information above to compute the compressibility factor at the following pressures at a temperature of 450 K:\n",
    "\n",
    "P = 56, 111.3, 222.6, 445.2, 1113, 2226 atm.\n",
    "\n",
    "For each pressure, print the following quantities in a roughly tabular form:\n",
    "\n",
    "P, V, Z\n",
    "\n"
   ]
  },
  {
   "cell_type": "code",
   "execution_count": 1,
   "metadata": {
    "collapsed": true
   },
   "outputs": [],
   "source": []
  },
  {
   "cell_type": "markdown",
   "metadata": {},
   "source": [
    "\n",
    "## solution\n",
    "\n"
   ]
  },
  {
   "cell_type": "markdown",
   "metadata": {},
   "source": [
    "This is like a parameterized nonlinear algebra equation that we want to solve several times for different pressures.\n",
    "\n"
   ]
  },
  {
   "cell_type": "code",
   "execution_count": 2,
   "metadata": {},
   "outputs": [
    {
     "name": "stdout",
     "output_type": "stream",
     "text": [
      "P (atm) V (L/mol)   Z    \n",
      "-------------------------\n",
      "    56.0   0.575   0.872\n",
      "   111.3   0.234   0.704\n",
      "   222.6   0.077   0.466\n",
      "   445.2   0.061   0.731\n",
      "  1113.0   0.051   1.533\n",
      "  2226.0   0.046   2.783\n"
     ]
    }
   ],
   "source": [
    "from scipy.optimize import fsolve\n",
    "\n",
    "T = 450\n",
    "R = 0.08206\n",
    "Tc, Pc = 405.5, 111.3\n",
    "\n",
    "def vdw_zero(V, P):\n",
    "    a = 27 / 64 * (R**2 * Tc**2) / Pc\n",
    "    b = R * Tc / (8 * Pc)\n",
    "    return (P + a/V**2) * (V - b) - R * T\n",
    "\n",
    "# Here is one way to make a roughly tabular output.\n",
    "# There are many other ways.\n",
    "s = f'{\"P (atm)\":^8s}{\"V (L/mol)\":^8s}{\"Z\":^8s}'\n",
    "print(s)\n",
    "print('-' * len(s))\n",
    "for p in [56, 111.3, 222.6, 445.2, 1113, 2226]:\n",
    "    V, = fsolve(vdw_zero, 0.5, args=(p,))\n",
    "    Z = p * V / R / T\n",
    "    print(f'{p:8.1f}{V:8.3f}{Z:8.3f}')"
   ]
  },
  {
   "cell_type": "code",
   "execution_count": null,
   "metadata": {},
   "outputs": [],
   "source": []
  }
 ],
 "metadata": {
  "kernelspec": {
   "display_name": "Python 3",
   "language": "python",
   "name": "python3"
  },
  "language_info": {
   "codemirror_mode": {
    "name": "ipython",
    "version": 3
   },
   "file_extension": ".py",
   "mimetype": "text/x-python",
   "name": "python",
   "nbconvert_exporter": "python",
   "pygments_lexer": "ipython3",
   "version": "3.6.0"
  },
  "org": {}
 },
 "nbformat": 4,
 "nbformat_minor": 1
}
