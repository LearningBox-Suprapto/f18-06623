{
 "cells": [
  {
   "cell_type": "markdown",
   "metadata": {},
   "source": [
    "\n",
    "# ASSIGNED A draining tank\n",
    "\n"
   ]
  },
  {
   "cell_type": "markdown",
   "metadata": {},
   "source": [
    "If you have a cylindrical tank that drains through a hole in the bottom, the height of the water inside the cylinder is governed by:\n",
    "\n",
    "$\\frac{dh}{dt} = - \\frac{A_h}{A_w} \\sqrt{2 g h}$\n",
    "\n",
    "Where $A_w$ is the cross-sectional area of the cylinder, $A_h$ is the area of the hole in the bottom, and $g = 32$ ft/s<sup>2</sup>. Suppose the water starts at a height of 10 ft in a cylinder with a radius of 2 ft. There is a hole in the bottom with a radius of 1/2 inch.\n",
    "\n",
    "Use `scipy.integrate.solve_ivp` to estimate how long it will take to drain the tank. Make a plot that shows the height as a function of time.\n",
    "\n",
    "Note that you have to some care in selecting the integration range here; if $h$ is ever negative then you will see some warnings about invalid values in the sqrt.\n",
    "\n"
   ]
  },
  {
   "cell_type": "code",
   "execution_count": 1,
   "metadata": {
    "collapsed": true
   },
   "outputs": [],
   "source": []
  },
  {
   "cell_type": "markdown",
   "metadata": {},
   "source": [
    "\n",
    "## solution\n"
   ]
  },
  {
   "cell_type": "markdown",
   "metadata": {},
   "source": [
    "If we don't take some care to handle negative values in the square root, we cannot get to h=0, but we can get pretty close, e.g. 1e-12 ft. We can agree that is basically empty.\n",
    "\n",
    "We can use an event to find the solution, and the event of interest is where the height is equal to the small number we choose, e.g. $h - 1e-12 = 0$. We want the integration to terminate at this point, so we set `event.terminal = True` in the code.\n",
    "\n"
   ]
  },
  {
   "cell_type": "code",
   "execution_count": 2,
   "metadata": {},
   "outputs": [
    {
     "name": "stdout",
     "output_type": "stream",
     "text": [
      "The tank is practically empty at tevents: [ 1821.5] seconds.\n"
     ]
    },
    {
     "name": "stderr",
     "output_type": "stream",
     "text": [
      "/Users/jkitchin/anaconda/lib/python3.6/site-packages/ipykernel_launcher.py:10: RuntimeWarning: invalid value encountered in sqrt\n",
      "  # Remove the CWD from sys.path while we load stuff.\n",
      "/Users/jkitchin/anaconda/lib/python3.6/site-packages/scipy/integrate/_ivp/rk.py:140: RuntimeWarning: invalid value encountered in maximum\n",
      "  scale = atol + np.maximum(np.abs(y), np.abs(y_new)) * rtol\n"
     ]
    },
    {
     "data": {
      "text/plain": [
       "'A termination event occurred.'"
      ]
     },
     "execution_count": 2,
     "metadata": {},
     "output_type": "execute_result"
    },
    {
     "data": {
      "image/png": "[encoded data removed]",
      "text/plain": [
       "<matplotlib.figure.Figure at 0x10359e198>"
      ]
     },
     "metadata": {},
     "output_type": "display_data"
    }
   ],
   "source": [
    "import numpy as np\n",
    "from scipy.integrate import solve_ivp\n",
    "\n",
    "Aw = np.pi * 2**2  # ft^2\n",
    "Ah = np.pi * (0.5 / 12)**2  # ft^2\n",
    "g = 32  # ft / s^2\n",
    "\n",
    "\n",
    "def dhdt(t, h):\n",
    "    return -Ah / Aw * np.sqrt(2 * g * h)\n",
    "\n",
    "def event(t, h):\n",
    "    return h - 1e-12\n",
    "\n",
    "event.terminal = True\n",
    "\n",
    "h0 = np.array([10])  # starting height at t=0\n",
    "tspan=(0, 2000)\n",
    "tval = np.linspace(*tspan)\n",
    "\n",
    "sol = solve_ivp(dhdt, tspan, h0, t_eval=tval, events=event)\n",
    "\n",
    "%matplotlib inline\n",
    "import matplotlib.pyplot as plt\n",
    "plt.plot(sol.t, sol.y.T)\n",
    "\n",
    "plt.xlim([0, 2000])\n",
    "plt.ylim([0, 10])\n",
    "plt.xlabel('Time(s)')\n",
    "plt.ylabel('Height(ft)')\n",
    "plt.title('Height vs. Time')\n",
    "print(f'The tank is practically empty at tevents: {np.round(sol.t_events[0], 1)} seconds.')\n",
    "sol.message"
   ]
  },
  {
   "cell_type": "markdown",
   "metadata": {},
   "source": [
    "The RuntimeWarning above is caused by the solver making estimates of h that turn out to be negative. This doesn't affect the solution, but it is annoying to see. The issue is our ode function is only correct for h >=0. For all other h, the derivative should just be 0.\n",
    "\n",
    "\n",
    "There is an analytical solution to this problem (you were not required to derive it), which is the time required to drain the tank is given by:"
   ]
  },
  {
   "cell_type": "code",
   "execution_count": 1,
   "metadata": {},
   "outputs": [
    {
     "name": "stdout",
     "output_type": "stream",
     "text": [
      "1821.4719322569865"
     ]
    }
   ],
   "source": [
    "Aw / (4 * Ah) * np.sqrt(10)"
   ]
  },
  {
   "cell_type": "markdown",
   "metadata": {},
   "source": [
    "The main advantage of the analytical solution is you simply evaluate it in one one of code. The real work is getting to the analytical solution, and making sure it is correct."
   ]
  },
  {
   "cell_type": "markdown",
   "metadata": {},
   "source": [
    "Some of you had an idea to eliminate the RuntimeWarning by redefining the ODE as $h' = Ah / Aw * ((2 * g * h)**2)**0.25$. This is algebraically equivalent, but as $h$ goes to zero, you may run into some numerical issues, e.g. (1e-9)\\*\\*2 is 1e-18, which is *very* small. That means we will need need extra care with the tolerances that define the accuracy of the solution. Here is a solution that increases the accuracy of the solution to get something pretty close to the previous result. Depending on which version of scipy you have installed, you may, however, that we get a new RuntimeWarning, so it doesn't really help. There is not one here because I installed a newer version of scipy than the one that gets initially installed in anaconda.\n",
    "\n"
   ]
  },
  {
   "cell_type": "code",
   "execution_count": 7,
   "metadata": {},
   "outputs": [
    {
     "name": "stdout",
     "output_type": "stream",
     "text": [
      "The tank is practically empty at tevents: [ 1821.47084038] seconds.\n"
     ]
    },
    {
     "data": {
      "text/plain": [
       "'A termination event occurred.'"
      ]
     },
     "execution_count": 7,
     "metadata": {},
     "output_type": "execute_result"
    },
    {
     "data": {
      "image/png": "[encoded data removed]",
      "text/plain": [
       "<matplotlib.figure.Figure at 0x10ea80b38>"
      ]
     },
     "metadata": {},
     "output_type": "display_data"
    }
   ],
   "source": [
    "import numpy as np\n",
    "from scipy.integrate import solve_ivp\n",
    "\n",
    "Aw = np.pi * 2**2\n",
    "Ah = np.pi * (0.5 / 12)**2\n",
    "g = 32  # ft / s^2\n",
    "\n",
    "def dhdt(t, h):\n",
    "    return -Ah / Aw * ((2 * g * h)**2)**0.25\n",
    "\n",
    "def event(t, h):\n",
    "    return h - 1e-12\n",
    "\n",
    "event.terminal = True\n",
    "\n",
    "h0 = np.array([10])\n",
    "tspan=(0, 2000)\n",
    "tval = np.linspace(*tspan)\n",
    "\n",
    "sol = solve_ivp(dhdt, tspan, h0, t_eval=tval, events=event, rtol=1e-12, atol=1e-12)\n",
    "\n",
    "%matplotlib inline\n",
    "import matplotlib.pyplot as plt\n",
    "plt.plot(sol.t, sol.y.T)\n",
    "\n",
    "plt.xlim([0, 2000])\n",
    "plt.ylim([0, 10])\n",
    "plt.xlabel('Time(s)')\n",
    "plt.ylabel('Height(ft)')\n",
    "plt.title('Height vs. Time')\n",
    "print(f'The tank is practically empty at tevents: {sol.t_events[0]} seconds.')\n",
    "sol.message"
   ]
  },
  {
   "cell_type": "markdown",
   "metadata": {},
   "source": [
    "# General Comments"
   ]
  },
  {
   "cell_type": "markdown",
   "metadata": {},
   "source": [
    "For presentation, please make sure every sentence has the appropriate capitalization and punctuation. Also, the plots should be labeled appropriately. \n",
    "\n",
    "Regarding the comments for codes, it is unnecessary to comment every single line of the codes since many of them are self-explanatory. Comments are necessary for units, unit conversion and some important equations or functions."
   ]
  }
 ],
 "metadata": {
  "grade": {},
  "kernelspec": {
   "display_name": "Python 3",
   "language": "python",
   "name": "python3"
  },
  "language_info": {
   "codemirror_mode": {
    "name": "ipython",
    "version": 3
   },
   "file_extension": ".py",
   "mimetype": "text/x-python",
   "name": "python",
   "nbconvert_exporter": "python",
   "pygments_lexer": "ipython3",
   "version": "3.6.0"
  },
  "org": {}
 },
 "nbformat": 4,
 "nbformat_minor": 1
}
