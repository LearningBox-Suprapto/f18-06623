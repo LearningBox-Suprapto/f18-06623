{
 "cells": [
  {
   "cell_type": "markdown",
   "metadata": {},
   "source": [
    "\n",
    "# ASSIGNED Universal electric\n",
    "\n"
   ]
  },
  {
   "cell_type": "markdown",
   "metadata": {},
   "source": [
    "Universal Electric, Inc manufactures and sells two types of lamps: L1 and L2. They make a profit of \\\\$150 on L1 and \\\\$100 on L2. There are two workers that can make the lamps, W1 and W2. W1 works for 100 hours a month, and W2 works for 80 hours a month.\n",
    "\n",
    "W1 assembles L1 in 20 minutes, and L2 in 30 minutes. W2 paints L1 in 20 min and L2 in 10 minutes. Assuming that all lamps that are made can be sold, how many of each kind of lamp should the workers make to maximize the profit, and how much profit will be made?\n",
    "\n"
   ]
  },
  {
   "cell_type": "code",
   "execution_count": null,
   "metadata": {},
   "outputs": [],
   "source": []
  },
  {
   "cell_type": "markdown",
   "metadata": {},
   "source": [
    "\n",
    "## solution\n",
    "\n"
   ]
  },
  {
   "cell_type": "markdown",
   "metadata": {},
   "source": [
    "There are two variables we need to solve for, L1 and L2, which are the number of each type of lamp we want to solve. The total profit is just the sum of the profit for each one times the profit of that lamp.\n",
    "\n",
    "We have two constraints to consider. One is the total time that worker 1 works must be less than or equal to 100 hours/month, and the total time for worker two is 80 hours/month. We compute these times based on the time it takes to process each kind of lamp.\n",
    "\n",
    "Here is the solution:\n",
    "\n"
   ]
  },
  {
   "cell_type": "code",
   "execution_count": 1,
   "metadata": {},
   "outputs": [
    {
     "data": {
      "text/plain": [
       "     fun: -37500.00000432619\n",
       "     jac: array([-150., -100.])\n",
       " message: 'Optimization terminated successfully.'\n",
       "    nfev: 17\n",
       "     nit: 4\n",
       "    njev: 4\n",
       "  status: 0\n",
       " success: True\n",
       "       x: array([210.00000003,  60.        ])"
      ]
     },
     "execution_count": 1,
     "metadata": {},
     "output_type": "execute_result"
    }
   ],
   "source": [
    "from scipy.optimize import minimize\n",
    "\n",
    "def profit(X):\n",
    "    L1, L2 = X\n",
    "    return -(L1 * 150 + L2 * 100)\n",
    "\n",
    "def c1(X):\n",
    "    'W1 100 hours/month'\n",
    "    L1, L2 = X\n",
    "    return 100 - (L1 * 20 / 60 + L2 * 30 / 60)\n",
    "\n",
    "def c2(X):\n",
    "    'W2 80 hours / month'\n",
    "    L1, L2 = X\n",
    "    return 80 - (L1 * 20 / 60 + L2 * 10 / 60)\n",
    "\n",
    "sol = minimize(profit, (10, 10),\n",
    "               constraints=[{'type': 'ineq', 'fun': c1},\n",
    "                            {'type': 'ineq', 'fun': c2}])\n",
    "sol"
   ]
  },
  {
   "cell_type": "code",
   "execution_count": 2,
   "metadata": {},
   "outputs": [
    {
     "name": "stdout",
     "output_type": "stream",
     "text": [
      "We make $37500.00/month of profit by making 210 L1 lamps, and 60 L2 lamps.\n"
     ]
    }
   ],
   "source": [
    "print(f'We make ${-sol.fun:1.2f}/month of profit by making {int(sol.x[0])} L1 lamps, and {int(sol.x[1])} L2 lamps.')"
   ]
  },
  {
   "cell_type": "markdown",
   "metadata": {},
   "source": [
    "We should check that the constraints are met. This means the constraint functions are greater than or equal to zero (within a tolerance).\n",
    "\n"
   ]
  },
  {
   "cell_type": "code",
   "execution_count": 3,
   "metadata": {},
   "outputs": [
    {
     "data": {
      "text/plain": [
       "(-1.0894893875956768e-08, -9.357535191156785e-09)"
      ]
     },
     "execution_count": 3,
     "metadata": {},
     "output_type": "execute_result"
    }
   ],
   "source": [
    "c1(sol.x), c2(sol.x)"
   ]
  },
  {
   "cell_type": "markdown",
   "metadata": {},
   "source": [
    "You can see the constraints in each case are practically zero, even though they are slightly negative. That means the workers are fully scheduled and working the maximum number of hours each.\n",
    "\n"
   ]
  },
  {
   "cell_type": "markdown",
   "metadata": {},
   "source": [
    "## Miscellaneous notes"
   ]
  },
  {
   "cell_type": "markdown",
   "metadata": {},
   "source": [
    "We can visualize the problem and confirm where the solution is with the following plot."
   ]
  },
  {
   "cell_type": "code",
   "execution_count": 4,
   "metadata": {},
   "outputs": [
    {
     "data": {
      "text/plain": [
       "<matplotlib.legend.Legend at 0x1c06d9129e8>"
      ]
     },
     "execution_count": 4,
     "metadata": {},
     "output_type": "execute_result"
    },
    {
     "data": {
      "image/png": "[encoded data removed]",
      "text/plain": [
       "<Figure size 432x288 with 2 Axes>"
      ]
     },
     "metadata": {},
     "output_type": "display_data"
    }
   ],
   "source": [
    "%matplotlib inline\n",
    "import matplotlib.pyplot as plt\n",
    "import numpy as np\n",
    "\n",
    "# plot contour of the objective\n",
    "nx1, nx2 = (50, 50)\n",
    "x1 = np.linspace(0, 500, nx1)\n",
    "x2 = np.linspace(0, 500, nx2)\n",
    "x1v, x2v = np.meshgrid(x1, x2)\n",
    "plt.contourf(x1v, x2v, profit([x1v,x2v]))\n",
    "plt.colorbar()\n",
    "plt.ylim([0,500])\n",
    "plt.xlabel('L1 [lamps/month]')\n",
    "plt.ylabel('L2 [lamps/month]')\n",
    "\n",
    "# plot lines of inequality constraints\n",
    "L2_w1 = -2/3*x1 + 200\n",
    "L2_w2 = -2*x1 + 480\n",
    "plt.plot(x1,L2_w1,'--k',label='W1')\n",
    "plt.plot(x1,L2_w2,'-k',label='W2')\n",
    "\n",
    "\n",
    "# fill feasible region\n",
    "eddge = np.minimum(L2_w1,L2_w2) #upper edge of the feasible region\n",
    "plt.fill_between(x1, eddge, 0, facecolor='gray', alpha = 0.8)\n",
    "\n",
    "# Plot the solution\n",
    "plt.plot(sol.x[0],sol.x[1],'or',label='optimal')\n",
    "plt.legend()"
   ]
  }
 ],
 "metadata": {
  "hide_input": false,
  "kernelspec": {
   "display_name": "Python 3",
   "language": "python",
   "name": "python3"
  },
  "language_info": {
   "codemirror_mode": {
    "name": "ipython",
    "version": 3
   },
   "file_extension": ".py",
   "mimetype": "text/x-python",
   "name": "python",
   "nbconvert_exporter": "python",
   "pygments_lexer": "ipython3",
   "version": "3.6.5"
  },
  "org": null
 },
 "nbformat": 4,
 "nbformat_minor": 1
}
