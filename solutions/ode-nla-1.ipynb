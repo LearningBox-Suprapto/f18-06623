{
 "cells": [
  {
   "cell_type": "markdown",
   "metadata": {},
   "source": [
    "\n",
    "# ASSIGNED Solving nonlinear problems with an ODE\n",
    "\n"
   ]
  },
  {
   "cell_type": "markdown",
   "metadata": {},
   "source": [
    "Suppose you want to solve a difficult nonlinear algebraic equation that cannot readily be solved with algebra. For example, consider $f(x) = x e^{-x}$, and you seek to find the value of $x$ that makes this function equal to 0.1. One way to do this is to use a nonlinear algebra solver. In this problem, we will consider a way to solve it by integrating a differential equation.\n",
    "\n",
    "The idea is to derive the derivative of the function, $f'(x)$, and then solve the initial value problem with an event function that finds the solution you want.\n",
    "\n"
   ]
  },
  {
   "cell_type": "markdown",
   "metadata": {},
   "source": [
    "\n",
    "## First plot the function\n",
    "\n"
   ]
  },
  {
   "cell_type": "markdown",
   "metadata": {},
   "source": [
    "You should plot the function to see if there is a solution. Consider an x-range from 0 to 5. Comment on whether there are any solutions, and if so how many and approximately where they are.\n",
    "\n"
   ]
  },
  {
   "cell_type": "code",
   "execution_count": 1,
   "metadata": {},
   "outputs": [],
   "source": []
  },
  {
   "cell_type": "markdown",
   "metadata": {},
   "source": [
    "\n",
    "## Derive f'(x)\n",
    "\n"
   ]
  },
  {
   "cell_type": "markdown",
   "metadata": {},
   "source": [
    "This should be done by hand, and the result described in the next cell.\n",
    "\n"
   ]
  },
  {
   "cell_type": "code",
   "execution_count": 1,
   "metadata": {},
   "outputs": [],
   "source": []
  },
  {
   "cell_type": "markdown",
   "metadata": {},
   "source": [
    "\n",
    "## Solve the ode\n",
    "\n"
   ]
  },
  {
   "cell_type": "markdown",
   "metadata": {},
   "source": [
    "Now that you have an $f'(x)$ Solve the initial value problem with $f(0)$ over the x-range that you plotted the original function on. Use an event function to identify points where $f(x)=0.1$.\n",
    "\n",
    "Prepare a plot of the solution that has the following features:\n",
    "\n",
    "1.  Plot the original function provided in this problem.\n",
    "2.  Plot the solution you got from integrating $f'(x)$.\n",
    "3.  Plot where your solution points you found are.\n",
    "\n"
   ]
  },
  {
   "cell_type": "code",
   "execution_count": 1,
   "metadata": {},
   "outputs": [],
   "source": []
  },
  {
   "cell_type": "markdown",
   "metadata": {},
   "source": [
    "\n",
    "## solution\n",
    "\n"
   ]
  },
  {
   "cell_type": "markdown",
   "metadata": {},
   "source": [
    "Here is the plot of the function.\n",
    "\n"
   ]
  },
  {
   "cell_type": "code",
   "execution_count": 1,
   "metadata": {},
   "outputs": [
    {
     "data": {
      "image/png": "[encoded data removed]",
      "text/plain": [
       "<matplotlib.figure.Figure>"
      ]
     },
     "metadata": {},
     "output_type": "display_data"
    }
   ],
   "source": [
    "import numpy as np\n",
    "%matplotlib inline\n",
    "import matplotlib.pyplot as plt\n",
    "\n",
    "x = np.linspace(0, 5)\n",
    "plt.plot(x, x * np.exp(-x))\n",
    "plt.xlabel('x')\n",
    "plt.ylabel('y')"
   ]
  },
  {
   "cell_type": "markdown",
   "metadata": {},
   "source": [
    "You can see there will be two solutions, one near x=0, and one closer to x=3.5.\n",
    "\n",
    "You have to use the chain rule to derive $f'(x)$. It is $f'(x) = e^{-x} - x e^{-x}$. To find where the function is equal to 0.1, we use an event function. We do not make it terminal since there is more than one solution to find. We know from inspection that $f(0) = 0$.\n",
    "\n"
   ]
  },
  {
   "cell_type": "code",
   "execution_count": 1,
   "metadata": {},
   "outputs": [
    {
     "name": "stdout",
     "output_type": "stream",
     "text": [
      "There are solutions at [ 0.11183256  3.57715207]"
     ]
    }
   ],
   "source": [
    "def fp(x, y):\n",
    "    return np.exp(-x) + x * (-np.exp(-x))\n",
    "\n",
    "f0 = np.array([0]) # f(0) = 0\n",
    "xspan = (0, 5)\n",
    "xeval, h = np.linspace(*xspan, retstep=True)\n",
    "\n",
    "from scipy.integrate import solve_ivp\n",
    "\n",
    "def event(x, y):\n",
    "    return y - 0.1\n",
    "\n",
    "sol = solve_ivp(fp, xspan, f0, dense_output=True, max_step=h, events=event)\n",
    "print(f'There are solutions at {sol.t_events[0]}')"
   ]
  },
  {
   "cell_type": "markdown",
   "metadata": {},
   "source": [
    "We plot the numerical solution and the original function to make sure we didn't make a mistake in the ODE, as well as the solutions here.\n",
    "\n"
   ]
  },
  {
   "cell_type": "code",
   "execution_count": 1,
   "metadata": {},
   "outputs": [
    {
     "data": {
      "image/png": "[encoded data removed]",
      "text/plain": [
       "<matplotlib.figure.Figure>"
      ]
     },
     "metadata": {},
     "output_type": "display_data"
    }
   ],
   "source": [
    "plt.plot(sol.t, sol.y.T)\n",
    "plt.plot(x, x * np.exp(-x), 'r--')\n",
    "plt.plot(sol.t_events[0], sol.sol(sol.t_events[0]).T, 'ro')\n",
    "plt.xlabel('x')\n",
    "plt.ylabel('y')\n",
    "plt.legend(['sol', 'f(x)', 'f(x) = 0.1'])"
   ]
  },
  {
   "cell_type": "markdown",
   "metadata": {},
   "source": [
    "The solution for f(x) is indistinguishable from f(x), so we have confidence that the integration worked, and we can see the solutions are in the right place.\n",
    "\n"
   ]
  },
  {
   "cell_type": "markdown",
   "metadata": {},
   "source": [
    "## Miscellaneous notes"
   ]
  },
  {
   "cell_type": "markdown",
   "metadata": {},
   "source": [
    "Some of you plotted $f(x)=0.1$ by linspace or arrays. The following axhline is more easier to show horizontal line."
   ]
  },
  {
   "cell_type": "code",
   "execution_count": 2,
   "metadata": {},
   "outputs": [
    {
     "data": {
      "text/plain": [
       "(0, 5)"
      ]
     },
     "execution_count": 2,
     "metadata": {},
     "output_type": "execute_result"
    },
    {
     "data": {
      "image/png": "[encoded data removed]",
      "text/plain": [
       "<Figure size 432x288 with 1 Axes>"
      ]
     },
     "metadata": {},
     "output_type": "display_data"
    }
   ],
   "source": [
    "import numpy as np\n",
    "\n",
    "def f(x):\n",
    "    return x*np.exp(-x)\n",
    "\n",
    "x = np.linspace(0,5)\n",
    "\n",
    "%matplotlib inline\n",
    "import matplotlib.pyplot as plt\n",
    "\n",
    "plt.plot(x,f(x),'-k')\n",
    "plt.axhline(y=0.1, color='r', linestyle='--')  # <--------this is to make a horizontal line.\n",
    "plt.xlabel('x')\n",
    "plt.ylabel('y')\n",
    "plt.grid()\n",
    "plt.xlim(0,5)"
   ]
  }
 ],
 "metadata": {
  "kernelspec": {
   "display_name": "Python 3",
   "language": "python",
   "name": "python3"
  },
  "language_info": {
   "codemirror_mode": {
    "name": "ipython",
    "version": 3
   },
   "file_extension": ".py",
   "mimetype": "text/x-python",
   "name": "python",
   "nbconvert_exporter": "python",
   "pygments_lexer": "ipython3",
   "version": "3.6.5"
  },
  "org": {}
 },
 "nbformat": 4,
 "nbformat_minor": 1
}
