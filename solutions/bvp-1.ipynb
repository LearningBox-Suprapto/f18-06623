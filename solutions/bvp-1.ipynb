{
 "cells": [
  {
   "cell_type": "markdown",
   "metadata": {},
   "source": [
    "\n",
    "# ASSIGNED flow between plates\n",
    "\n"
   ]
  },
  {
   "cell_type": "markdown",
   "metadata": {},
   "source": [
    "The flow of an incompressible fluid between two solid plates and driven by a pressure drop is given by:\n",
    "\n",
    "$\\frac{d^2 v}{dy^2} = \\frac{\\Delta P}{\\mu L}$\n",
    "\n",
    "where v(y) is the velocity in the flow direction (x) as a function of position between the plates. The fluid is glycerol with a viscosity $\\mu = 0.9$ Pa-s., the gap between the plates is 0.5 mm and the pressure drop $\\frac{\\Delta P}{L}$ is 200 MPa / m.  Calculate the velocity profile using solve\\_bvp for the situation that (a) both plates are stationary and (b) for the situation that the upper plate is stationary and the bottom plate is moving at 10 m/s in the opposite direction as the pressure drop; plot these together on the same plot.\n",
    "\n"
   ]
  },
  {
   "cell_type": "markdown",
   "metadata": {},
   "source": [
    "\n",
    "## solution\n",
    "\n"
   ]
  },
  {
   "cell_type": "markdown",
   "metadata": {},
   "source": [
    "Let\n",
    "\n",
    "$v1 = v$\n",
    "\n",
    "$v1' = v'$\n",
    "\n",
    "$v2 = v1'$\n",
    "$v2' = v''$\n",
    "\n",
    "$v1' = v2$\n",
    "$v2' = \\frac{\\Delta P}{\\mu L}$\n",
    "\n",
    "We have to define boundary conditions:\n",
    "\n",
    "Case a)\n",
    "$v1(0) = 0$\n",
    "\n",
    "$v1(L) = 0$\n",
    "\n",
    "case b)\n",
    "$v1(0) = -10$\n",
    "\n",
    "$v1(L) = 0$\n",
    "\n"
   ]
  },
  {
   "cell_type": "code",
   "execution_count": 4,
   "metadata": {},
   "outputs": [
    {
     "name": "stdout",
     "output_type": "stream",
     "text": [
      "The algorithm converged to the desired accuracy.\n",
      "The algorithm converged to the desired accuracy.\n"
     ]
    },
    {
     "data": {
      "text/plain": [
       "<matplotlib.legend.Legend at 0x29d0d73ea20>"
      ]
     },
     "execution_count": 4,
     "metadata": {},
     "output_type": "execute_result"
    },
    {
     "data": {
      "image/png": "[encoded data removed]",
      "text/plain": [
       "<Figure size 432x288 with 1 Axes>"
      ]
     },
     "metadata": {},
     "output_type": "display_data"
    }
   ],
   "source": [
    "import numpy as np\n",
    "%matplotlib inline\n",
    "import matplotlib.pyplot as plt\n",
    "from scipy.integrate import solve_bvp\n",
    "\n",
    "mu = 0.9    # Pa*s\n",
    "L = 0.5e-3  # m\n",
    "dPdL = -200e6  # Pa/m\n",
    "\n",
    "def bvp(x, V):\n",
    "    v1, v2 = V\n",
    "    dv1dx = v2\n",
    "    dv2dx = np.ones(x.shape) * dPdL / mu\n",
    "    return dv1dx, dv2dx\n",
    "\n",
    "def bc1(Va, Vb):\n",
    "    v1a, v2a = Va\n",
    "    v1b, v2b = Vb\n",
    "    return [v1a, v1b] # both zero\n",
    "\n",
    "def bc2(Va, Vb):\n",
    "    v1a, v2a = Va\n",
    "    v1b, v2b = Vb\n",
    "    return [v1a + 10, # Bottom plate moving at -10 m/s\n",
    "            v1b]\n",
    "\n",
    "X = np.linspace(0, L)\n",
    "\n",
    "p = np.polyfit([0, L/2, L], [0, 6, 0], 2)\n",
    "v1 = np.polyval(p, X)\n",
    "v2 = np.gradient(v1, X)\n",
    "\n",
    "V_guess = [v1, v2]\n",
    "\n",
    "sol1 = solve_bvp(bvp, bc1, X, V_guess)\n",
    "print(sol1.message)\n",
    "\n",
    "sol2 = solve_bvp(bvp, bc2, X, V_guess)\n",
    "print(sol2.message)\n",
    "plt.plot(sol1.y[0], sol1.x, label='case (a)')\n",
    "plt.plot(sol2.y[0], sol2.x, label='case (b)')\n",
    "plt.xlabel('v [m/s]')\n",
    "plt.ylabel('y [m]')\n",
    "plt.legend()"
   ]
  },
  {
   "cell_type": "markdown",
   "metadata": {},
   "source": [
    "## General comments"
   ]
  },
  {
   "cell_type": "markdown",
   "metadata": {},
   "source": [
    "The sign of $\\frac{\\Delta P}{L}$ is to be negative for pressure drop. If the sign is positive, that is pressure rise."
   ]
  }
 ],
 "metadata": {
  "kernelspec": {
   "display_name": "Python 3",
   "language": "python",
   "name": "python3"
  },
  "language_info": {
   "codemirror_mode": {
    "name": "ipython",
    "version": 3
   },
   "file_extension": ".py",
   "mimetype": "text/x-python",
   "name": "python",
   "nbconvert_exporter": "python",
   "pygments_lexer": "ipython3",
   "version": "3.6.5"
  },
  "org": {}
 },
 "nbformat": 4,
 "nbformat_minor": 1
}
