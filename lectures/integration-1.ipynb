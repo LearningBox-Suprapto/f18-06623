{
 "cells": [
  {
   "cell_type": "markdown",
   "metadata": {},
   "source": [
    "- KEYWORDS: integration, trapz, cumtrapz, quad\n"
   ]
  },
  {
   "cell_type": "markdown",
   "metadata": {},
   "source": [
    "Integration is used for many purposes in scientific problem solving. It can:\n",
    "\n",
    "1.  Represent the area under a curve or between curves\n",
    "2.  Solve differential equations\n",
    "\n",
    "We may have data that represents a function that needs to be integrated, or a function we want to integrate, or a differential equation we want to solve.\n",
    "\n",
    "We may also have data that represents a curve, and that we wish to integrate.\n",
    "\n"
   ]
  },
  {
   "cell_type": "markdown",
   "metadata": {},
   "source": [
    "\n",
    "# Numerical integration of data\n",
    "\n"
   ]
  },
  {
   "cell_type": "markdown",
   "metadata": {},
   "source": [
    "Data can be used to represent functions. Suppose we have the function $y=x^2$, and 5 $x$ values evenly spaced from 0 to 4. We can represent this function numerically with data like this.\n",
    "\n"
   ]
  },
  {
   "cell_type": "code",
   "execution_count": 1,
   "metadata": {},
   "outputs": [
    {
     "data": {
      "image/png": "[encoded data removed]",
      "text/plain": [
       "<matplotlib.figure.Figure>"
      ]
     },
     "metadata": {},
     "output_type": "display_data"
    }
   ],
   "source": [
    "import numpy as np\n",
    "\n",
    "x = np.linspace(1, 4, 5)\n",
    "y = x**2\n",
    "\n",
    "%matplotlib inline\n",
    "import matplotlib.pyplot as plt\n",
    "\n",
    "plt.plot(x, y, 'bo--')  # plot with blue circles connected by a dashed line\n",
    "plt.xlabel('x')\n",
    "plt.ylabel('y')"
   ]
  },
  {
   "cell_type": "markdown",
   "metadata": {},
   "source": [
    "If we want the area under this curve, it is represented by:\n",
    "\n",
    "$A = \\int_0^4 x^2 dx$\n",
    "\n",
    "We could analytically evaluate this as:\n",
    "\n",
    "$A = \\frac{1}{3} (4^3 - 1^3)$.\n",
    "\n",
    "Here is the analytical answer for future reference:\n",
    "\n"
   ]
  },
  {
   "cell_type": "code",
   "execution_count": 1,
   "metadata": {},
   "outputs": [
    {
     "name": "stdout",
     "output_type": "stream",
     "text": [
      "21.0"
     ]
    }
   ],
   "source": [
    "1 / 3 * (4**3 - 1**3)"
   ]
  },
  {
   "cell_type": "markdown",
   "metadata": {},
   "source": [
    "It will not always be the case that we can evaluate the integrals analytically, and sometimes we just have the data, and not the analytical function it represents (e.g. if you have measured the data).\n",
    "\n",
    "The classical way to compute the error under this curve is to use the trapezoid method. We know the area of a trapezoid is $A = 0.5 * width * (y1 + y2)$. In this example, we have four trapezoids to compute the areas of.\n",
    "\n",
    "To make this easier to compute, we need a few new ideas. First, it would be convenient to know how many elements are in the array `x`.\n",
    "\n"
   ]
  },
  {
   "cell_type": "code",
   "execution_count": 1,
   "metadata": {},
   "outputs": [
    {
     "name": "stdout",
     "output_type": "stream",
     "text": [
      "5"
     ]
    }
   ],
   "source": [
    "len(x)"
   ]
  },
  {
   "cell_type": "markdown",
   "metadata": {},
   "source": [
    "Second, we need to know how to compute the area of a trapezoid defined by the points in `x` and `y`. The area of the first trapezoid is defined by:\n",
    "\n"
   ]
  },
  {
   "cell_type": "code",
   "execution_count": 1,
   "metadata": {},
   "outputs": [
    {
     "name": "stdout",
     "output_type": "stream",
     "text": [
      "1.5234375"
     ]
    }
   ],
   "source": [
    "0.5 * (y[0] + y[1]) * (x[1] - x[0])"
   ]
  },
  {
   "cell_type": "markdown",
   "metadata": {},
   "source": [
    "What we would like to do is to loop over each trapezoid, compute the area, and accumulate it in a variable. Here is how we use a `for` loop to iterate from a value starting at 1 to the length of the array `x`. Note that although the length is 5, the last value of `i` is 4. The loop goes up to, but not including the last value of the range.\n",
    "\n"
   ]
  },
  {
   "cell_type": "code",
   "execution_count": 1,
   "metadata": {},
   "outputs": [
    {
     "name": "stdout",
     "output_type": "stream",
     "text": [
      "1\n",
      "2\n",
      "3\n",
      "4"
     ]
    }
   ],
   "source": [
    "for i in range(1, len(x)):\n",
    "    print(i)"
   ]
  },
  {
   "cell_type": "code",
   "execution_count": 1,
   "metadata": {},
   "outputs": [
    {
     "name": "stdout",
     "output_type": "stream",
     "text": [
      "The estimated area is 21.28125.\n",
      "The exact area is 21.0"
     ]
    }
   ],
   "source": [
    "area = 0.0  # variable we will accumulate the area in\n",
    "\n",
    "for i in range(1, len(x)):\n",
    "    y1 = y[i - 1]\n",
    "    y2 = y[i]\n",
    "    width = x[i] - x[i - 1]\n",
    "    area += 0.5 * width * (y1 + y2)  # increment the area variable\n",
    "\n",
    "print(f'The estimated area is {area}.')\n",
    "print(f'The exact area is {1 / 3 * (x[-1]**3 - x[0]**3)}')"
   ]
  },
  {
   "cell_type": "markdown",
   "metadata": {},
   "source": [
    "Why don't these agree? The trapezoid method is an approximation of the integral. In this case the straight lines connecting the points *overestimate* the value of the function, and so the area under this curve is overestimated.\n",
    "\n",
    "**Exercise**: Increase the number of points slowly and see how the estimate converges to the exact value.\n",
    "\n"
   ]
  },
  {
   "cell_type": "markdown",
   "metadata": {},
   "source": [
    "\n",
    "## numpy.trapz\n",
    "\n"
   ]
  },
  {
   "cell_type": "markdown",
   "metadata": {},
   "source": [
    "It is somewhat tedious to write the loop above, making sure you get the indexing right, etc. The trapezoid method is defined in numpy. See the help for how to use it:\n",
    "\n"
   ]
  },
  {
   "cell_type": "code",
   "execution_count": 1,
   "metadata": {},
   "outputs": [],
   "source": [
    "?np.trapz"
   ]
  },
  {
   "cell_type": "markdown",
   "metadata": {},
   "source": [
    "Now, we can perform the integration with just one line:\n",
    "\n"
   ]
  },
  {
   "cell_type": "code",
   "execution_count": 1,
   "metadata": {},
   "outputs": [
    {
     "name": "stdout",
     "output_type": "stream",
     "text": [
      "21.28125"
     ]
    }
   ],
   "source": [
    "import numpy as np\n",
    "x = np.linspace(1, 4, 5)\n",
    "y = x**2\n",
    "np.trapz(y, x)"
   ]
  },
  {
   "cell_type": "markdown",
   "metadata": {},
   "source": [
    "The trapezoid method is only exact for lines. For everything else, it is an approximation. For functions (or regions) that are concave up, the trapezoid method will over-estimate the integral, and for regions that are concave down, the method will underestimate the true integral.\n",
    "\n",
    "The [error](https://en.wikipedia.org/wiki/Trapezoidal_rule#Error_analysis) in this method is formally:\n",
    "\n",
    "$error = - \\frac{(b - a)^3}{12 N^2} f''(\\xi)$\n",
    "\n",
    "In this formula, $\\xi$ is some number between $a$ and $b$, in other words the error is related to the second derivative of the function evaluated somewhere in the interval.\n",
    "\n",
    "Practically, we only use this method for integrating data where we do not know the function it represents, so we cannot reliably estimate the error in the integral.\n",
    "\n"
   ]
  },
  {
   "cell_type": "markdown",
   "metadata": {},
   "source": [
    "\n",
    "## Simpson method [https://docs.scipy.org/doc/scipy-0.18.1/reference/generated/scipy.integrate.simps.html#scipy.integrate.simps](https://docs.scipy.org/doc/scipy-0.18.1/reference/generated/scipy.integrate.simps.html#scipy.integrate.simps)\n",
    "\n"
   ]
  },
  {
   "cell_type": "markdown",
   "metadata": {},
   "source": [
    "There are more advanced approximations to integration than the trapezoid method. With the trapezoid method, you essentially assume linear interpolation between the points, and in the limit of infinite points that are close together, this is reasonable. We rarely get to that limit however.\n",
    "\n",
    "Instead of linear interpolation, we can use quadratic interpolation, where one uses the point and its neighbors to compute the equation of a parabola that goes through them, and then analytically computes the area under the parabola over the relevant interval. This is the basis of [Simpson's method](https://en.wikipedia.org/wiki/Simpson%27s_rule). There is an excellent animation of Simpson's Rule at that page.\n",
    "\n",
    "Note in this case, since we integrate a parabola, the result is exact. It will not be exact in general, but this method is generally expected to be more accurate than the trapezoid method for well-behaved data because it represents the local curvature better than lines do.\n",
    "\n"
   ]
  },
  {
   "cell_type": "code",
   "execution_count": 1,
   "metadata": {},
   "outputs": [
    {
     "name": "stdout",
     "output_type": "stream",
     "text": [
      "21.0"
     ]
    }
   ],
   "source": [
    "from scipy.integrate import simps\n",
    "\n",
    "simps(y, x)"
   ]
  },
  {
   "cell_type": "markdown",
   "metadata": {},
   "source": [
    "\n",
    "## Applications\n",
    "\n"
   ]
  },
  {
   "cell_type": "markdown",
   "metadata": {},
   "source": [
    "\n",
    "### Estimating the volume of a solid\n",
    "\n"
   ]
  },
  {
   "cell_type": "markdown",
   "metadata": {},
   "source": [
    "We can use integrals to compute the volume of solids. If we know how the cross-sectional area of a solid varies in some direction, we simply evaluate the following integral:\n",
    "\n",
    "$\\int_{x0}^{x1} A(x) dx$\n",
    "\n",
    "For a sphere, we can derive:\n",
    "\n",
    "$A(x) = \\pi (1 - x^2)$\n",
    "\n"
   ]
  },
  {
   "cell_type": "code",
   "execution_count": 1,
   "metadata": {},
   "outputs": [
    {
     "name": "stdout",
     "output_type": "stream",
     "text": [
      "Approximate volume = 4.1870\n",
      "Exact volume = 4.1888"
     ]
    }
   ],
   "source": [
    "R = 1\n",
    "x = np.linspace(-R, R)\n",
    "y = np.pi * (1 - x**2)\n",
    "\n",
    "approx_V = np.trapz(y, x)\n",
    "exact_V = 4 / 3 * np.pi * R**3\n",
    "\n",
    "print(f'''Approximate volume = {approx_V:1.4f}\n",
    "Exact volume = {exact_V:1.4f}''')"
   ]
  },
  {
   "cell_type": "markdown",
   "metadata": {},
   "source": [
    "With 50 points, the estimate is pretty good. Try increasing the number of points to improve the estimate.\n",
    "\n"
   ]
  },
  {
   "cell_type": "markdown",
   "metadata": {},
   "source": [
    "\n",
    "### Estimating the volume of a plug flow reactor\n",
    "\n"
   ]
  },
  {
   "cell_type": "markdown",
   "metadata": {},
   "source": [
    "Adapted from Fogler example 2.7. The volume of a plug flow reactor is defined by this integral:\n",
    "\n",
    "$\\int_{X0}^{X1} \\frac{F_{A0}}{-r_A} dX$\n",
    "\n",
    "where $F_{A0}$ is the inlet molar flow of species A, $X$ is the conversion, and $-r_A$ is the rate of generation of species A per unit volume. $r_A$  is a function of conversion. We often do not know what the function is, but we can measure the rate of generation. Below is some tabulated data of the rate of generation of species A as a function of conversion.\n",
    "\n",
    "|X|-r\\_A (kmol / m^3 / hr)|\n",
    "|---\n",
    "|0|39|\n",
    "|0.2|53|\n",
    "|0.4|59|\n",
    "|0.6|38|\n",
    "|0.65|25|\n",
    "\n",
    "Use this data to estimate the volume of the reactor required to achieve a conversion of 0.65.\n",
    "\n"
   ]
  },
  {
   "cell_type": "code",
   "execution_count": 1,
   "metadata": {},
   "outputs": [
    {
     "name": "stdout",
     "output_type": "stream",
     "text": [
      "The required volume is 0.701 m^3."
     ]
    }
   ],
   "source": [
    "X = np.array([0, 0.2, 0.4, 0.6, 0.65])\n",
    "\n",
    "ra = -np.array([39, 53, 59, 38, 25])\n",
    "\n",
    "Fa0 = 50 # kmol / hr.\n",
    "\n",
    "V = np.trapz(Fa0 / -ra, X)\n",
    "\n",
    "print(f'The required volume is {V:1.3f} m^3.')"
   ]
  },
  {
   "cell_type": "markdown",
   "metadata": {},
   "source": [
    "How does the volume depend on conversion? Let's plot the integrand first so we can get a sense for how the area might change with conversion.\n",
    "\n"
   ]
  },
  {
   "cell_type": "code",
   "execution_count": 1,
   "metadata": {},
   "outputs": [
    {
     "name": "stdout",
     "output_type": "stream",
     "text": [
      "(0, 2)"
     ]
    },
    {
     "data": {
      "image/png": "[encoded data removed]",
      "text/plain": [
       "<matplotlib.figure.Figure>"
      ]
     },
     "metadata": {},
     "output_type": "display_data"
    }
   ],
   "source": [
    "plt.plot(X, Fa0 / -ra)\n",
    "plt.xlabel('Conversion')\n",
    "plt.ylabel('$F_{A0} / -r_A$')\n",
    "plt.xlim([0, 0.65])\n",
    "plt.ylim([0, 2])"
   ]
  },
  {
   "cell_type": "markdown",
   "metadata": {},
   "source": [
    "We could iterate over the conversions and print the volume for each value. This is a little wasteful since we recompute the areas in each iteration, but here it is so fast it does not matter.\n",
    "\n",
    "Before jumping into the integration an loop, Let's review array slicing. It allows us to select portions of arrays for analysis.\n",
    "\n"
   ]
  },
  {
   "cell_type": "code",
   "execution_count": 1,
   "metadata": {},
   "outputs": [
    {
     "name": "stdout",
     "output_type": "stream",
     "text": [
      "array([ 0. ,  0.2,  0.4])"
     ]
    }
   ],
   "source": [
    "# X[start:below_end]\n",
    "X = np.array([0, 0.2, 0.4, 0.6, 0.65])\n",
    "X[0:3] # This selects points with indices 0-2"
   ]
  },
  {
   "cell_type": "markdown",
   "metadata": {},
   "source": [
    "We use -1 for the last element (-2 for second to last element, etc). Note that this *does not* include the last element.\n",
    "\n"
   ]
  },
  {
   "cell_type": "code",
   "execution_count": 1,
   "metadata": {},
   "outputs": [
    {
     "name": "stdout",
     "output_type": "stream",
     "text": [
      "array([ 0.2,  0.4,  0.6])"
     ]
    }
   ],
   "source": [
    "X[1:-1]"
   ]
  },
  {
   "cell_type": "markdown",
   "metadata": {},
   "source": [
    "To get to the last element, we do not specify an end value like this:\n",
    "\n"
   ]
  },
  {
   "cell_type": "code",
   "execution_count": 1,
   "metadata": {},
   "outputs": [
    {
     "name": "stdout",
     "output_type": "stream",
     "text": [
      "array([ 0.2 ,  0.4 ,  0.6 ,  0.65])"
     ]
    }
   ],
   "source": [
    "X[1:]"
   ]
  },
  {
   "cell_type": "markdown",
   "metadata": {},
   "source": [
    "So, back to the integration. We need to use slices of the array for each integration step.\n",
    "\n"
   ]
  },
  {
   "cell_type": "code",
   "execution_count": 1,
   "metadata": {},
   "outputs": [
    {
     "name": "stdout",
     "output_type": "stream",
     "text": [
      "At X=0.00 V=0.000 m^3\n",
      "At X=0.20 V=0.223 m^3\n",
      "At X=0.40 V=0.402 m^3\n",
      "At X=0.60 V=0.618 m^3\n",
      "At X=0.65 V=0.701 m^3\n",
      "\n",
      "\n",
      "[0.0,\n",
      " 0.22254475084663766,\n",
      " 0.40163013620001153,\n",
      " 0.61795484628029695,\n",
      " 0.70084958312240231]"
     ]
    }
   ],
   "source": [
    "y = Fa0 / -ra\n",
    "\n",
    "volumes = []  # empty list to store values in\n",
    "\n",
    "for i in range(0, len(X)):\n",
    "    vol = np.trapz(y[0:i+1], X[0:i+1])\n",
    "    volumes += [vol] # here we accumulate the vol into our list\n",
    "    print(f'At X={X[i]:3.2f} V={vol:1.3f} m^3')\n",
    "\n",
    "volumes"
   ]
  },
  {
   "cell_type": "markdown",
   "metadata": {},
   "source": [
    "An alternative approach is to use a cumulative trapezoid function. This is defined in scipy.integrate. The main benefit of this approach is that it is faster, as it does not recompute the areas, and the code is shorter, so there are less places to make mistakes!\n",
    "\n"
   ]
  },
  {
   "cell_type": "code",
   "execution_count": 1,
   "metadata": {},
   "outputs": [
    {
     "name": "stdout",
     "output_type": "stream",
     "text": [
      "array([ 0.22254475,  0.40163014,  0.61795485,  0.70084958])"
     ]
    },
    {
     "data": {
      "image/png": "[encoded data removed]",
      "text/plain": [
       "<matplotlib.figure.Figure>"
      ]
     },
     "metadata": {},
     "output_type": "display_data"
    }
   ],
   "source": [
    "import scipy as sp\n",
    "cumV = sp.integrate.cumtrapz(Fa0 / -ra, X)\n",
    "\n",
    "plt.plot(X[1:], cumV)\n",
    "plt.xlabel('Conversion')\n",
    "plt.ylabel('Volume (m$^3$)')\n",
    "\n",
    "cumV"
   ]
  },
  {
   "cell_type": "markdown",
   "metadata": {},
   "source": [
    "What if you want to know the volume required for an intermediate conversion? For that you need interpolation. We will cover that later in the course when we talk more about dealing with data.\n",
    "\n"
   ]
  },
  {
   "cell_type": "markdown",
   "metadata": {},
   "source": [
    "\n",
    "# Numerical quadrature\n",
    "\n"
   ]
  },
  {
   "cell_type": "markdown",
   "metadata": {},
   "source": [
    "When you have a function and you know its analytical form we can use quadrature to estimate integrals of it. In quadrature, we approximate the integral as a weighted sum of function values. By increasing the number values used, we can systematically improve the integral estimates.\n",
    "\n",
    "To motivate the idea, let's consider the function integral of $y(x) = 7 x^3 - 8 x^2 - 3x +3$ from -1 to 1.\n",
    "\n",
    "This is a third order polynomial, so we can in this case replace the integral with a sum of two points:\n",
    "\n",
    "$\\int f(x) dx = w_1 f(x_1) + w_2 f(x_2)$\n",
    "\n",
    "provided we can find the weights, and the right values of $x$ to use. These are derived and tabulated (e.g. at [https://en.wikipedia.org/wiki/Gaussian_quadrature](https://en.wikipedia.org/wiki/Gaussian_quadrature)), which tells us for this case, the weights are simply equal to one, and we should use $\\pm \\sqrt{1/3}$ for x.\n",
    "\n"
   ]
  },
  {
   "cell_type": "code",
   "execution_count": 1,
   "metadata": {},
   "outputs": [
    {
     "name": "stdout",
     "output_type": "stream",
     "text": [
      "0.66666666666666741"
     ]
    },
    {
     "data": {
      "image/png": "[encoded data removed]",
      "text/plain": [
       "<matplotlib.figure.Figure>"
      ]
     },
     "metadata": {},
     "output_type": "display_data"
    }
   ],
   "source": [
    "%matplotlib inline\n",
    "import matplotlib.pyplot as plt\n",
    "\n",
    "x = np.linspace(-1, 1)\n",
    "\n",
    "def f(x):\n",
    "    return 7 * x**3 - 8 * x**2 - 3 * x + 3\n",
    "\n",
    "plt.plot(x, f(x))\n",
    "\n",
    "f(np.sqrt(1/3)) + f(-np.sqrt(1/3))"
   ]
  },
  {
   "cell_type": "markdown",
   "metadata": {},
   "source": [
    "This example is special in several ways:\n",
    "\n",
    "1.  The formula was derived for n<sup>th</sup> order polynomials, here we had a 3rd order polynomial, so n-1 points are needed to exactly compute the integral. The formula is not exact for non-polynomial functions.\n",
    "    For non-poynomial functions, the formula is an approximation to the integral and you have to use more than two points to estimate the integral. When you use more points, the weights change, but they can be looked up in the table, or computed.\n",
    "\n",
    "I show this example mostly to motivate the idea that given a function, you can perform an integral by evaluating the function at special points, and weighting those function values appropriately. In practice, we don't do this manually. It has been coded already into robust libraries that we can reuse.\n",
    "\n",
    "`scipy.integrate` provides the [quad](https://docs.scipy.org/doc/scipy-0.18.1/reference/generated/scipy.integrate.quad.html#scipy.integrate.quad) function. This is a Python wrapper around a sophisticated [Fortran library](https://en.wikipedia.org/wiki/QUADPACK) for integrating functions. These routines use an adaptive method to compute the integral and provide an upper bound on the error of the computed integral. The beauty of this interface is we can use a reliable, proven library written in Fortran inside of Python. We do not have to write and compile a Fortran program ourselves.\n",
    "\n"
   ]
  },
  {
   "cell_type": "code",
   "execution_count": 1,
   "metadata": {},
   "outputs": [],
   "source": [
    "from scipy.integrate import quad\n",
    "\n",
    "?quad"
   ]
  },
  {
   "cell_type": "markdown",
   "metadata": {},
   "source": [
    "We return to our simple integral, which should equal 21.\n",
    "\n"
   ]
  },
  {
   "cell_type": "code",
   "execution_count": 1,
   "metadata": {},
   "outputs": [
    {
     "name": "stdout",
     "output_type": "stream",
     "text": [
      "21.0"
     ]
    }
   ],
   "source": [
    "4**3 / 3 - 1 / 3  # analytical integral of x^2 from 1 to 4."
   ]
  },
  {
   "cell_type": "markdown",
   "metadata": {},
   "source": [
    "To use the quad function, we define a function, and use it as the first argument in the quad function. The quad function returns the integral value, and estimated error.\n",
    "\n"
   ]
  },
  {
   "cell_type": "code",
   "execution_count": 1,
   "metadata": {},
   "outputs": [
    {
     "name": "stdout",
     "output_type": "stream",
     "text": [
      "(21.000000000000004, 2.331468351712829e-13)"
     ]
    }
   ],
   "source": [
    "def f(x):\n",
    "    return x**2\n",
    "\n",
    "quad(f, 1, 4)"
   ]
  },
  {
   "cell_type": "markdown",
   "metadata": {},
   "source": [
    "We can recompute the volume of a sphere much more precisely, and easily now. Recall $A(x) = \\pi (1 - x^2)$ and that $V = \\int_{-1}^{1} A(x) dx$. Here is the implementation.\n",
    "\n"
   ]
  },
  {
   "cell_type": "code",
   "execution_count": 1,
   "metadata": {},
   "outputs": [
    {
     "name": "stdout",
     "output_type": "stream",
     "text": [
      "(4.1887902047863905, 4.6504913306781755e-14)"
     ]
    }
   ],
   "source": [
    "def cross_section(x):\n",
    "    return np.pi * (1 - x**2)\n",
    "\n",
    "quad(cross_section, -1, 1)"
   ]
  },
  {
   "cell_type": "markdown",
   "metadata": {},
   "source": [
    "We can integrate to infinity.\n",
    "\n",
    "$\\int_{-\\infty}^{\\infty} \\frac{1}{x^2 + 1} = \\pi$.\n",
    "\n",
    "Let us verify this. You can use &plusmn; &infin; as limits.\n",
    "\n"
   ]
  },
  {
   "cell_type": "code",
   "execution_count": 1,
   "metadata": {},
   "outputs": [
    {
     "name": "stdout",
     "output_type": "stream",
     "text": [
      "(3.141592653589793, 5.155583041103855e-10)"
     ]
    }
   ],
   "source": [
    "def f(x):\n",
    "    return 1 / (x**2 + 1)\n",
    "\n",
    "quad(f, -np.inf, np.inf)"
   ]
  },
  {
   "cell_type": "markdown",
   "metadata": {},
   "source": [
    "Not all integrals are finite. For example\n",
    "\n",
    "$\\int_1^\\infty \\frac{dx}{x} = \\infty$\n",
    "\n",
    "Here we get an IntegrationWarning that a maximum number of subdivisions has been achieved.\n",
    "\n"
   ]
  },
  {
   "cell_type": "code",
   "execution_count": 1,
   "metadata": {},
   "outputs": [
    {
     "name": "stdout",
     "output_type": "stream",
     "text": [
      "/Users/jkitchin/anaconda/lib/python3.6/site-packages/scipy/integrate/quadpack.py:364: IntegrationWarning: The maximum number of subdivisions (50) has been achieved.\n",
      "  If increasing the limit yields no improvement it is advised to analyze\n",
      "  the integrand in order to determine the difficulties.  If the position of a\n",
      "  local difficulty can be determined (singularity, discontinuity) one will\n",
      "  probably gain from splitting up the interval and calling the integrator\n",
      "  on the subranges.  Perhaps a special-purpose integrator should be used.\n",
      "  warnings.warn(msg, IntegrationWarning)\n",
      "\n",
      "\n",
      "(40.996012819169536, 8.156214940493651)"
     ]
    }
   ],
   "source": [
    "def f(x):\n",
    "    return 1 / x\n",
    "\n",
    "quad(f, 1, np.infty)"
   ]
  },
  {
   "cell_type": "markdown",
   "metadata": {},
   "source": [
    "Math is fun though, this subtly different function is integrable:\n",
    "\n"
   ]
  },
  {
   "cell_type": "code",
   "execution_count": 1,
   "metadata": {},
   "outputs": [
    {
     "name": "stdout",
     "output_type": "stream",
     "text": [
      "(1.0, 1.1102230246251565e-14)"
     ]
    }
   ],
   "source": [
    "def f(x):\n",
    "    return 1 / x**2\n",
    "\n",
    "quad(f, 1, np.infty)"
   ]
  },
  {
   "cell_type": "markdown",
   "metadata": {},
   "source": [
    "And this function is integrable, despite the singularity at x=0.\n",
    "\n"
   ]
  },
  {
   "cell_type": "code",
   "execution_count": 1,
   "metadata": {},
   "outputs": [
    {
     "name": "stdout",
     "output_type": "stream",
     "text": [
      "(1.9999999999999984, 5.773159728050814e-15)"
     ]
    }
   ],
   "source": [
    "def f(x):\n",
    "    return 1 / np.sqrt(x)\n",
    "\n",
    "quad(f, 0, 1)"
   ]
  },
  {
   "cell_type": "markdown",
   "metadata": {},
   "source": [
    "\n",
    "## Find the volume of a PFR\n",
    "\n"
   ]
  },
  {
   "cell_type": "markdown",
   "metadata": {},
   "source": [
    "For a single reaction that consumes a species A at a rate of $-r_A = k C_A$, a mole balance leads to an equation for the volume as a function of conversion $X$ as:\n",
    "\n",
    "$V = \\int_0^X \\frac{F_{A0}}{-r_A(X)} dX$\n",
    "\n",
    "$F_{A0}$ is the inlet molar flow of species A, which is equal to the inlet concentration times the inlet volumetric flow. The concentration of A in the reactor is a function of the conversion, and is given by  $C_A = C_{A0} (1 - X)$. If $k = 0.23$ 1/min, $C_{A0} = 1$ mol/L, and the volumetric flow is 1 L/min, what is the reactor volume required to achieve a conversion of 50%?\n",
    "\n"
   ]
  },
  {
   "cell_type": "code",
   "execution_count": 1,
   "metadata": {},
   "outputs": [
    {
     "name": "stdout",
     "output_type": "stream",
     "text": [
      "The required volume is 3.014 L"
     ]
    }
   ],
   "source": [
    "from scipy.integrate import quad\n",
    "\n",
    "k = 0.23\n",
    "Ca0 = 1.0\n",
    "v0 = 1.0\n",
    "\n",
    "Fa0 = v0 * Ca0\n",
    "\n",
    "def rA(X):\n",
    "    Ca = Ca0 * (1 - X)\n",
    "    return -k * Ca\n",
    "\n",
    "def integrand(X):\n",
    "    return Fa0 / -rA(X)\n",
    "\n",
    "vol, err = quad(integrand, 0, 0.5)\n",
    "print(f'The required volume is {vol:1.3f} L')"
   ]
  },
  {
   "cell_type": "markdown",
   "metadata": {},
   "source": [
    "\n",
    "## Diffusion\n",
    "\n"
   ]
  },
  {
   "cell_type": "markdown",
   "metadata": {},
   "source": [
    "When the surface concentration of a solute is constant, and the solute diffused into a semi-infinite solid, the concentration of the solute in the solid varies with space and time according to:\n",
    "$C_A(x, t) = C_{As} - (C_{As} - C_{A0}) erf\\left(\\frac{x}{\\sqrt{4 D t}}\\right)$.\n",
    "\n",
    "$C_{As}$ is the concentration of the diffusing species at $x=0$, and $C_{A0}$ is the initial concentration of the species in the semi-infinite body.\n",
    "\n",
    "and $erf(x) = \\frac{2}{\\sqrt{\\pi}} \\int_0^x e^-{\\xi^2} d\\xi$\n",
    "\n",
    "This integral arises from the solution to the differential equation describing diffusion. The integral does not have an analytical solution, but it can be solved numerically.\n",
    "\n",
    "Suppose we have a steel sample #1 that initially contains 0.02% Carbon in it, and it is put in contact with another steel containing 1.2% carbon. If the diffusion coefficient of carbon is 1.54e-6 cm^2/s, what will the concentration of carbon in sample #1 be after 24 hours?\n",
    "\n"
   ]
  },
  {
   "cell_type": "code",
   "execution_count": 1,
   "metadata": {},
   "outputs": [
    {
     "name": "stdout",
     "output_type": "stream",
     "text": [
      "The concentration at X = 0.15 cm after 24.0 hours is 0.93%."
     ]
    }
   ],
   "source": [
    "Cas = 1.2\n",
    "Ca0 = 0.02\n",
    "D = 1.54e-6 # cm^2/s\n",
    "X = 0.15 # cm\n",
    "t = 24 * 60 * 60 # time in seconds\n",
    "\n",
    "\n",
    "xi = X / np.sqrt(4 * D * t)\n",
    "\n",
    "def erf_integrand(xi):\n",
    "    return 2 / np.sqrt(np.pi) * np.exp(-xi**2)\n",
    "\n",
    "erfx, err = quad(erf_integrand, 0, xi)\n",
    "\n",
    "Cx = Cas - (Cas - Ca0) * erfx\n",
    "print(f'The concentration of carbon at X = {X} cm after {t / 3600} hours is {Cx:1.2f}%.')"
   ]
  },
  {
   "cell_type": "markdown",
   "metadata": {},
   "source": [
    "The [error function](https://en.wikipedia.org/wiki/Error_function), $erf(x)$ is such an important function it is implemented as a special function in scipy.special.\n",
    "\n"
   ]
  },
  {
   "cell_type": "code",
   "execution_count": 1,
   "metadata": {},
   "outputs": [
    {
     "name": "stdout",
     "output_type": "stream",
     "text": [
      "The concentration of carbon at X = 0.15 cm after 24.0 hours is 0.93%."
     ]
    }
   ],
   "source": [
    "from scipy.special import erf\n",
    "\n",
    "Cx_wspecial = Cas - (Cas - Ca0) * erf(xi)\n",
    "print(f'The concentration of carbon at X = {X} cm after {t / 3600} hours is {Cx_wspecial:1.2f}%.')"
   ]
  },
  {
   "cell_type": "markdown",
   "metadata": {},
   "source": [
    "\n",
    "# Summary\n",
    "\n"
   ]
  },
  {
   "cell_type": "markdown",
   "metadata": {},
   "source": [
    "The main points of this lecture were on\n",
    "\n",
    "-   Numerical integration of data\n",
    "    -   I recommend you rely on library implementations of the trapezoid method or Simpson's method.\n",
    "    -   `numpy.trapz`, `scipy.integrate.cumtrapz`, and `scipy.integrate.simps`.\n",
    "\n",
    "-   Integration of functions by quadrature\n",
    "    -   quadrature uses a weighted sum of function evaluations to estimate the integrals.\n",
    "    -   I recommend you rely on a library implementation of a quadrature\n",
    "        -   e.g. `scipy.integrate.quad`.\n",
    "        -   These libraries provide sophisticated convergence algorithms and error estimates\n",
    "\n",
    "Next time we will consider using integration to obtain solutions to differential equations.\n",
    "\n"
   ]
  }
 ],
 "metadata": {
  "kernelspec": {
   "display_name": "Python 3",
   "language": "python",
   "name": "python3"
  },
  "language_info": {
   "codemirror_mode": {
    "name": "ipython",
    "version": 3
   },
   "file_extension": ".py",
   "mimetype": "text/x-python",
   "name": "python",
   "nbconvert_exporter": "python",
   "pygments_lexer": "ipython3",
   "version": "3.6.0"
  },
  "org": {
   "KEYWORDS": "integration, trapz, cumtrapz, quad"
  }
 },
 "nbformat": 4,
 "nbformat_minor": 1
}
