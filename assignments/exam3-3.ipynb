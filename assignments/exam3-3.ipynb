{
 "cells": [
  {
   "cell_type": "markdown",
   "metadata": {},
   "source": [
    "- ASSIGNMENT: exam3-3\n",
    "- POINTS: 3\n",
    "- CATEGORY: exam-3\n",
    "- RUBRIC: default\n",
    "- RUBRIC_CATEGORIES: technical, presentation\n",
    "- RUBRIC_WEIGHTS: 0.8, 0.2\n",
    "- DUEDATE: 2018-12-10 23:59:59\n",
    "- GRADER: John Kitchin\n"
   ]
  },
  {
   "cell_type": "markdown",
   "metadata": {},
   "source": [
    "**This is an exam. You must be present in the exam room to get credit for this problem unless you have prior permission from the instructor. You may not talk during the exam except to ask an instructor a question. By turning this in, you agree that this work is your own, and you did not get unauthorized help to complete it or provide unauthorized help to anyone else. You may not modify your exam answer after the due time without permission.**\n",
    "\n",
    "A common problem in solving nonlinear problems is *how to make the initial guess*?\n",
    "\n",
    "Let's consider finding the solution to the following nonlinear equations:\n",
    "\n",
    "$2 + x + y - x^2 + 8 x y + y^3 = 0$\n",
    "\n",
    "$1 + 2x - 3y + x^2 + xy - y e^x = 0$\n",
    "\n",
    "The strategy we work on here is to reformulate these equations with a new variable $\\lambda$\n",
    "\n",
    "$2 + x + y + \\lambda(- x^2 + 8 x y + y^3) = 0$\n",
    "\n",
    "$1 + 2x - 3y + \\lambda(x^2 + xy - y e^x) = 0$\n",
    "\n"
   ]
  },
  {
   "cell_type": "markdown",
   "metadata": {},
   "source": [
    "\n",
    "# Part 1 solve the linear problem\n",
    "\n"
   ]
  },
  {
   "cell_type": "markdown",
   "metadata": {},
   "source": [
    "If $\\lambda=1$ then we have the original nonlinear equations. If you set $\\lambda=0$ though, you have a simple linear set of equations to solve. Find a solution to those equations for $\\lambda=0$:\n",
    "\n"
   ]
  },
  {
   "cell_type": "code",
   "execution_count": 1,
   "metadata": {},
   "outputs": [],
   "source": []
  },
  {
   "cell_type": "markdown",
   "metadata": {},
   "source": [
    "This solution represents the solution to the equations when $\\lambda=0$. If we could derive a set of equations for $\\frac{dx}{d\\lambda}$ and $\\frac{dy}{d\\lambda}$, then we can treat this linear solution as an initial value, and integrate the ODEs from $\\lambda=0$ to $\\lambda=1$ to find the solution to the nonlinear equations. In what follows, we motivate how to derive those equations.\n",
    "\n"
   ]
  },
  {
   "cell_type": "markdown",
   "metadata": {},
   "source": [
    "\n",
    "# Part 2 formulate a system of ODEs to solve the nonlinear problem\n",
    "\n"
   ]
  },
  {
   "cell_type": "markdown",
   "metadata": {},
   "source": [
    "Next, we consider the equations as\n",
    "\n",
    "$f(x, y) = 2 + x + y + \\lambda(- x^2 + 8 x y + y^3) = 0$\n",
    "\n",
    "$g(x, y) = 1 + 2x - 3y + \\lambda(x^2 + xy - y e^x) = 0$\n",
    "\n",
    "from calculus, you can show that:\n",
    "\n",
    "$\\frac{\\partial f}{\\partial x}\\frac{\\partial x}{\\partial \\lambda}+\\frac{\\partial f}{\\partial y}\\frac{\\partial y}{\\partial \\lambda}=-\\frac{\\partial f}{\\partial \\lambda}$\n",
    "\n",
    "$\\frac{\\partial g}{\\partial x}\\frac{\\partial x}{\\partial \\lambda}+\\frac{\\partial g}{\\partial y}\\frac{\\partial y}{\\partial \\lambda}=-\\frac{\\partial g}{\\partial \\lambda}$\n",
    "\n",
    "You can rewrite this in a linear algebra form as:\n",
    "\n",
    "\\begin{equation}\n",
    "\\left[\\begin{array}{cc}\n",
    "\\frac{\\partial f}{\\partial x} \\frac{\\partial f}{\\partial y} \\\\\n",
    "\\frac{\\partial g}{\\partial x} \\frac{\\partial g}{\\partial y}\n",
    "\\end{array}\\right]\n",
    "\\left[\\begin{array}{c}\n",
    "\\frac{\\partial x}{\\partial \\lambda}\\\\\n",
    "\\frac{\\partial y}{\\partial \\lambda}\n",
    "\\end{array}\\right]\n",
    "=\n",
    "\\left[\\begin{array}{c}\n",
    "-\\frac{\\partial f}{\\partial \\lambda}\\\\\n",
    "-\\frac{\\partial g}{\\partial \\lambda}\n",
    "\\end{array}\\right]\n",
    "\\end{equation}\n",
    "\n",
    "The matrix on the left is the Jacobian of $F = [f(x,y), g(x, y)]$. This means you can solve for:\n",
    "\n",
    "$$\\left[\\begin{array}{c}\n",
    "\\frac{\\partial x}{\\partial \\lambda}\\\\\n",
    "\\frac{\\partial y}{\\partial \\lambda}\n",
    "\\end{array}\\right]\n",
    "=\n",
    "\\mathbf{J}^{-1}\n",
    "\\left[\\begin{array}{c}\n",
    "-\\frac{\\partial f}{\\partial \\lambda}\\\\\n",
    "-\\frac{\\partial g}{\\partial \\lambda}\n",
    "\\end{array}\\right]$$\n",
    "\n",
    "This last equation defines a set of differential equations that can be integrated from $\\lambda=0$ where we know what (x, y) are, to $\\lambda=1$ which leads to a solution to the original set of nonlinear equations!\n",
    "\n",
    "Use the last equation to define a function for a system of ODEs, and then integrate the system of ODES from $\\lambda=0$ to $\\lambda=1$ to find the solution to the nonlinear set of equations. The solution is the value of $x, y$ at $\\lambda=1$.\n",
    "\n"
   ]
  },
  {
   "cell_type": "code",
   "execution_count": 1,
   "metadata": {},
   "outputs": [],
   "source": []
  },
  {
   "cell_type": "markdown",
   "metadata": {},
   "source": [
    "\n",
    "# Part 3 Verify the solution you found\n",
    "\n"
   ]
  },
  {
   "cell_type": "markdown",
   "metadata": {},
   "source": [
    "Use a method of your choice to verify your solution from Part 2.\n",
    "\n"
   ]
  },
  {
   "cell_type": "code",
   "execution_count": 1,
   "metadata": {},
   "outputs": [],
   "source": []
  }
 ],
 "metadata": {
  "kernelspec": {
   "display_name": "Python 3",
   "language": "python",
   "name": "python3"
  },
  "language_info": {
   "codemirror_mode": {
    "name": "ipython",
    "version": 3
   },
   "file_extension": ".py",
   "mimetype": "text/x-python",
   "name": "python",
   "nbconvert_exporter": "python",
   "pygments_lexer": "ipython3",
   "version": "3.6.0"
  },
  "org": {
   "ASSIGNMENT": "exam3-3",
   "CATEGORY": "exam-3",
   "DUEDATE": "2018-12-10 23:59:59",
   "GRADER": "John Kitchin",
   "POINTS": "3",
   "RUBRIC": "default",
   "RUBRIC_CATEGORIES": "technical, presentation",
   "RUBRIC_WEIGHTS": "0.8, 0.2"
  }
 },
 "nbformat": 4,
 "nbformat_minor": 1
}
