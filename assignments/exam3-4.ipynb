{
 "cells": [
  {
   "cell_type": "markdown",
   "metadata": {},
   "source": [
    "- ASSIGNMENT: exam3-4\n",
    "- POINTS: 2\n",
    "- CATEGORY: exam-3\n",
    "- RUBRIC: default\n",
    "- RUBRIC_CATEGORIES: technical, presentation\n",
    "- RUBRIC_WEIGHTS: 0.8, 0.2\n",
    "- DUEDATE: 2018-12-10 16:00:00\n",
    "- GRADER: Noriyuki Yoshio\n"
   ]
  },
  {
   "cell_type": "markdown",
   "metadata": {},
   "source": [
    "**This is an exam. You must be present in the exam room to get credit for this problem unless you have prior permission from the instructor. You may not talk during the exam except to ask an instructor a question. By turning this in, you agree that this work is your own, and you did not get unauthorized help to complete it or provide unauthorized help to anyone else. You may not modify your exam answer after the due time without permission.**\n",
    "\n",
    "The modified Rosenbrock equation:\n",
    "\n",
    "$f(x_1, x_2) = 100 (x_2 - x_1^2)^2 + (6.4 (x_2 - 0.5)^2 - x_1 -0.6)^2$ has three minima in the range of $-2 < x_1 < 2$ and $-2 < x_2 < 2$. Find these minima and their values.\n",
    "\n"
   ]
  },
  {
   "cell_type": "code",
   "execution_count": 1,
   "metadata": {},
   "outputs": [],
   "source": []
  }
 ],
 "metadata": {
  "kernelspec": {
   "display_name": "Python 3",
   "language": "python",
   "name": "python3"
  },
  "language_info": {
   "codemirror_mode": {
    "name": "ipython",
    "version": 3
   },
   "file_extension": ".py",
   "mimetype": "text/x-python",
   "name": "python",
   "nbconvert_exporter": "python",
   "pygments_lexer": "ipython3",
   "version": "3.6.0"
  },
  "org": {
   "ASSIGNMENT": "exam3-4",
   "CATEGORY": "exam-3",
   "DUEDATE": "2018-12-10 16:00:00",
   "GRADER": "Noriyuki Yoshio",
   "POINTS": "2",
   "RUBRIC": "default",
   "RUBRIC_CATEGORIES": "technical, presentation",
   "RUBRIC_WEIGHTS": "0.8, 0.2"
  }
 },
 "nbformat": 4,
 "nbformat_minor": 1
}
