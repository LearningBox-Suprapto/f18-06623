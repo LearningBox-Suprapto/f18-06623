{
 "cells": [
  {
   "cell_type": "markdown",
   "metadata": {},
   "source": [
    "- ASSIGNMENT: exam3-5\n",
    "- POINTS: 3\n",
    "- CATEGORY: exam-3\n",
    "- RUBRIC: default\n",
    "- RUBRIC_CATEGORIES: technical, presentation\n",
    "- RUBRIC_WEIGHTS: 0.8, 0.2\n",
    "- DUEDATE: 2018-12-10 16:00:00\n",
    "- GRADER: John Kitchin\n"
   ]
  },
  {
   "cell_type": "markdown",
   "metadata": {},
   "source": [
    "**This is an exam. You must be present in the exam room to get credit for this problem unless you have prior permission from the instructor. You may not talk during the exam except to ask an instructor a question. By turning this in, you agree that this work is your own, and you did not get unauthorized help to complete it or provide unauthorized help to anyone else. You may not modify your exam answer after the due time without permission.**\n",
    "\n",
    "In this problem we learn a new way to solve a *linear* boundary value problem. The problem of interest is:\n",
    "\n",
    "$y'''(x) - x^2 y = -x^4$ with $y(0)=0, y'(0)=0, y(2)=4$.\n",
    "\n",
    "This will take some steps, so read the following carefully. Some of these steps will be worked out, and others you will be asked to complete. You *do not need to derive these*, they are here to guide what you will do.\n",
    "\n",
    "First, we recall that the general solution of a linear ODE can be written as a linear combination of solutions to the homogeneous equation (where the right hand side is zero) and a particular solution to the non-homogeneous equation (where the right hand side in this case is $-x^4$).\n",
    "\n",
    "Here are the homogeneous versions and the particular version of the equation above, expressed in *initial value form*. The initial conditions are chosen here to provide three linearly independent functions $Y_1, Y_2$, and $Y_3$. For $Y_p$ any values can be used since any particular solution will do.\n",
    "\n",
    "$Y_1''' - x^2 Y_1 = 0$ with $Y_1(0)=1, Y_1'(0)=0, Y_1''(0)=0$\n",
    "\n",
    "$Y_2''' - x^2 Y_2 = 0$ with $Y_2(0)=0, Y_2'(0)=1, Y_2''(0)=0$\n",
    "\n",
    "$Y_3''' - x^2 Y_3 = 0$ with $Y_3(0)=0, Y_3'(0)=0, Y_3''(0)=1$\n",
    "\n",
    "$Y_p''' - x^2 Y_p = -x^4$ with $Y_p(0)=0, Y_p'(0)=0, Y_p''(0)=0$\n",
    "\n",
    "These can be combined to form the general solution to the differential equation.\n",
    "\n",
    "$y(x) = C_1 Y_1(x) + C_2 Y_2(x) + C_3 Y_3(x) + Y_p(x)$\n",
    "\n",
    "To get towards a solution to the original BVP, we next apply the boundary conditions to find the constants $C_i$.\n",
    "\n",
    "$y(0) = 0 = C_1 + 0 + 0 + 0$\n",
    "\n",
    "$y'(0) = 0 = 0 + C_2 + 0 + 0$\n",
    "\n",
    "$y(2) = 4 = C_1 Y_1(2) + C_2 Y_2(2) + C_3 Y_3(2) + Y_p(2)$\n",
    "\n",
    "Combined, these lead to:\n",
    "\n",
    "$y(x) = \\frac{4 - Y_p(2)}{Y_3(2)} Y_3(x) + Y_p(x)$ where $Y_p(2)$ means the function $Y_p$ evaluated at $x=2$ and $Y_3(2)$ means the function $Y_3$ evaluated at $x=2$.\n",
    "\n",
    "That is remarkably the solution to the boundary value problem originally stated, and we can now get $Y_3$ and $Y_p$ by integrating two *ordinary initial value* differential equations!\n",
    "\n"
   ]
  },
  {
   "cell_type": "markdown",
   "metadata": {},
   "source": [
    "\n",
    "# Solve for $Y_3$ and $Y_p$\n",
    "\n"
   ]
  },
  {
   "cell_type": "markdown",
   "metadata": {},
   "source": [
    "Find solutions to these two initial value ODEs over the range of $x=0$ to $x=2$:\n",
    "\n",
    "$Y_3''' - x^2 Y_3 = 0$ with $Y_3(0)=0, Y_3'(0)=0, Y_3''(0)=1$\n",
    "\n",
    "Note that in the next step you will need to evaluate $Y_3(2)$ and $Y_p(2)$.\n",
    "\n"
   ]
  },
  {
   "cell_type": "code",
   "execution_count": 1,
   "metadata": {},
   "outputs": [],
   "source": []
  },
  {
   "cell_type": "markdown",
   "metadata": {},
   "source": [
    "$Y_p''' - x^2 Y_p = -x^4$ with $Y_p(0)=0, Y_p'(0)=0, Y_p''(0)=0$\n",
    "\n"
   ]
  },
  {
   "cell_type": "code",
   "execution_count": 1,
   "metadata": {},
   "outputs": [],
   "source": []
  },
  {
   "cell_type": "markdown",
   "metadata": {},
   "source": [
    "\n",
    "# Combine them to get a solution to the BVP\n",
    "\n"
   ]
  },
  {
   "cell_type": "markdown",
   "metadata": {},
   "source": [
    "Use your solutions to create the overall solution. $Y_p(2)$ means evaluate $Y_p(x)$ at $x=2$. $Y_3(2)$ means evaluate $Y_3(x)$ at $x=2$. You can do this anyway you want.\n",
    "\n",
    "$y(x) = \\frac{4 - Y_p(2)}{Y_3(2)} Y_3(x) + Y_p(x)$\n",
    "\n",
    "Make a plot of $y(x)$.\n",
    "\n"
   ]
  },
  {
   "cell_type": "code",
   "execution_count": 1,
   "metadata": {},
   "outputs": [],
   "source": []
  }
 ],
 "metadata": {
  "kernelspec": {
   "display_name": "Python 3",
   "language": "python",
   "name": "python3"
  },
  "language_info": {
   "codemirror_mode": {
    "name": "ipython",
    "version": 3
   },
   "file_extension": ".py",
   "mimetype": "text/x-python",
   "name": "python",
   "nbconvert_exporter": "python",
   "pygments_lexer": "ipython3",
   "version": "3.6.0"
  },
  "org": {
   "ASSIGNMENT": "exam3-5",
   "CATEGORY": "exam-3",
   "DUEDATE": "2018-12-10 16:00:00",
   "GRADER": "John Kitchin",
   "POINTS": "3",
   "RUBRIC": "default",
   "RUBRIC_CATEGORIES": "technical, presentation",
   "RUBRIC_WEIGHTS": "0.8, 0.2"
  }
 },
 "nbformat": 4,
 "nbformat_minor": 1
}
