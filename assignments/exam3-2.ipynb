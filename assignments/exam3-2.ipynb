{
 "cells": [
  {
   "cell_type": "markdown",
   "metadata": {},
   "source": [
    "- ASSIGNMENT: exam3-2\n",
    "- POINTS: 3\n",
    "- CATEGORY: exam-3\n",
    "- RUBRIC: default\n",
    "- RUBRIC_CATEGORIES: technical, presentation\n",
    "- RUBRIC_WEIGHTS: 0.8, 0.2\n",
    "- DUEDATE: 2018-12-10 16:00:00\n",
    "- GRADER: Mingjie Liu\n"
   ]
  },
  {
   "cell_type": "markdown",
   "metadata": {},
   "source": [
    "**This is an exam. You must be present in the exam room to get credit for this problem unless you have prior permission from the instructor. You may not talk during the exam except to ask an instructor a question. By turning this in, you agree that this work is your own, and you did not get unauthorized help to complete it or provide unauthorized help to anyone else. You may not modify your exam answer after the due time without permission.**\n",
    "\n",
    "We have mostly focused on numerical solutions to ODEs. Sometimes, it is possible to leverage Python to obtain analytical solutions though. This problem will focus on a way to do that. We will focus on these equations:\n",
    "\n",
    "$y_1'(t) = -0.02 y_1 + 0.02 y_2$\n",
    "\n",
    "$y_2'(t) = 0.02 y_1 - 0.02 y_2$\n",
    "\n",
    "with the initial conditions that $y_1(0) = 0$ and $y_2(0) = 150$.\n",
    "\n",
    "We can rewrite the equations in matrix form:\n",
    "\n",
    "$\\mathbf{y'} = \\mathbf{A} \\mathbf{y}$\n",
    "\n",
    "Here we have $\\mathbf{y'} = \\left[\\begin{array}{c} y_1'(t) \\\\ y_2'(t)\\end{array}\\right]$ and $\\mathbf{y} = \\left[\\begin{array}{c} y_1(t) \\\\ y_2(t)\\end{array}\\right]$. $\\mathbf{A}$ is the array of coefficients.\n",
    "\n",
    "This is a set of constant coefficient, coupled ODEs. We can try a solution of the form:\n",
    "\n",
    "$\\mathbf{y} = \\mathbf{x} e^{\\lambda t}$, where we have an unknown vector $\\mathbf{x}$ and $\\lambda$, and we seek to find values for these that solve the equations.\n",
    "\n",
    "If you plug this in to the equations then we find:\n",
    "\n",
    "$\\mathbf{y'} = \\lambda \\mathbf{x} e^{\\lambda t} = \\mathbf{A} \\mathbf{x} e^{\\lambda t}$\n",
    "\n",
    "Or, with some minor rearrangement:\n",
    "\n",
    "$\\mathbf{A} \\mathbf{x} = \\lambda \\mathbf{x}$\n",
    "\n",
    "This is an eigenvalue problem, and the solutions to it are the pairs of eigenvalues ($\\lambda$) and corresponding eigenvectors ($\\mathbf{x}$).\n",
    "\n",
    "Find the eigenvalues and eigenvectors of this system of equations:\n",
    "\n"
   ]
  },
  {
   "cell_type": "code",
   "execution_count": 1,
   "metadata": {},
   "outputs": [],
   "source": []
  },
  {
   "cell_type": "markdown",
   "metadata": {},
   "source": [
    "The solution to the system of ODEs is then a linear combination defined by:\n",
    "\n",
    "$\\mathbf{y(t)} = c_1 \\mathbf{x_1} e^{\\lambda_1 t} + c_2 \\mathbf{x_2} e^{\\lambda_2 t}$\n",
    "\n",
    "where $c_i$ are arbitrary constants, and $\\mathbf{x_i}$ is the i<sup>th</sup> eigenvector that corresponds to the i<sup>th</sup> eigenvalue $\\lambda_i$. To find the values of $c_i$ we must use the initial conditions. At $t=0$ we can express this in the form:\n",
    "\n",
    "\\begin{equation}\n",
    "\\left[\\begin{array}{c}y_1(0) \\\\ y_2(0)\\end{array}\\right]=\n",
    "[\\begin{array}{cc}\\mathbf{x_1} & \\mathbf{x_2}\\end{array}]\n",
    "\\left[\\begin{array}{c}c_1\\\\c_2\\end{array}\\right]\n",
    "\\end{equation}\n",
    "\n",
    "where $[\\begin{array}{cc}\\mathbf{x_1} & \\mathbf{x_2}\\end{array}]$ is an array with $\\mathbf{x_i}$ in the i<sup>th</sup> column, in other words it is an array of the eigenvectors in column form.\n",
    "\n",
    "Solve this linear equation for the unknown coefficients $\\mathbf{c}$.\n",
    "\n"
   ]
  },
  {
   "cell_type": "code",
   "execution_count": 1,
   "metadata": {},
   "outputs": [],
   "source": []
  },
  {
   "cell_type": "markdown",
   "metadata": {},
   "source": [
    "Finally, combine all of this information to get the complete solution\n",
    "\n",
    "$\\mathbf{y(t)} = c_1 \\mathbf{x_1} e^{\\lambda_1 t} + c_2 \\mathbf{x_2} e^{\\lambda_2 t}$. There is not a simple matrix algebra way to do this, so I suggest you do it as:\n",
    "\n",
    "$y1(t) = c_1 \\mathbf{x_1}[0] e^{\\lambda_1 t} + c_2 \\mathbf{x_2}[0] e^{\\lambda_2 t}$\n",
    "\n",
    "and\n",
    "\n",
    "$y2(t) = c_1 \\mathbf{x_1}[1] e^{\\lambda_1 t} + c_2 \\mathbf{x_2}[1] e^{\\lambda_2 t}$\n",
    "\n",
    "and plot the solution for $y_1(t)$ and $y_2(t)$ from t=0 to t=100.\n",
    "\n"
   ]
  },
  {
   "cell_type": "code",
   "execution_count": 1,
   "metadata": {},
   "outputs": [],
   "source": []
  }
 ],
 "metadata": {
  "kernelspec": {
   "display_name": "Python 3",
   "language": "python",
   "name": "python3"
  },
  "language_info": {
   "codemirror_mode": {
    "name": "ipython",
    "version": 3
   },
   "file_extension": ".py",
   "mimetype": "text/x-python",
   "name": "python",
   "nbconvert_exporter": "python",
   "pygments_lexer": "ipython3",
   "version": "3.6.0"
  },
  "org": {
   "ASSIGNMENT": "exam3-2",
   "CATEGORY": "exam-3",
   "DUEDATE": "2018-12-10 16:00:00",
   "GRADER": "Mingjie Liu",
   "POINTS": "3",
   "RUBRIC": "default",
   "RUBRIC_CATEGORIES": "technical, presentation",
   "RUBRIC_WEIGHTS": "0.8, 0.2"
  }
 },
 "nbformat": 4,
 "nbformat_minor": 1
}
